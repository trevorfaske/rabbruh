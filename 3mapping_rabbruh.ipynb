{
 "cells": [
  {
   "cell_type": "code",
   "execution_count": 97,
   "metadata": {
    "ExecuteTime": {}
   },
   "outputs": [
    {
     "name": "stdout",
     "output_type": "stream",
     "text": [
      "shell-init: error retrieving current directory: getcwd: cannot access parent directories: No such file or directory\r\n",
      "/usr/bin/sh: line 0: source: activate: file not found\r\n"
     ]
    }
   ],
   "source": [
    "!source activate py36"
   ]
  },
  {
   "cell_type": "code",
   "execution_count": 98,
   "metadata": {
    "ExecuteTime": {}
   },
   "outputs": [],
   "source": [
    "import sys\n",
    "\n",
    "#sys.path.append('/home/faske/g/anaconda3/envs/py34/lib/python3.4/site-packages')\n",
    "sys.path.append('/data/gpfs/assoc/parchmanlab/tfaske/anaconda3/envs/py36/lib/python3.6/site-packages')\n",
    "sys.path.append(\"/data/gpfs/assoc/parchmanlab/tfaske/ipynb/include_utils\")\n",
    "\n",
    "import ipyparallel as ipp\n",
    "import os, time\n",
    "import include_utils as u\n",
    "import pandas as pd\n",
    "import numpy as np\n",
    "import scipy as sp\n",
    "import numbers\n",
    "import matplotlib.pyplot as plt\n",
    "import matplotlib.patches as mpatches\n",
    "import matplotlib.cm as cm\n",
    "import matplotlib.colors as mcolors\n",
    "#import vcf\n",
    "from sklearn import preprocessing\n",
    "from subprocess import Popen, PIPE, call, check_output\n",
    "import seaborn as sns\n",
    "from IPython.display import FileLink\n",
    "import urllib.request as urllib2\n",
    "import dill\n",
    "import traceback\n",
    "from pandas import Series, DataFrame\n",
    "import gzip\n",
    "import warnings\n",
    "warnings.filterwarnings('ignore',category=pd.io.pytables.PerformanceWarning)\n",
    "%config InlineBackend.figure_format = 'retina'\n",
    "from Bio import SeqIO\n",
    "#import pysam\n",
    "from collections import OrderedDict, namedtuple, Counter\n",
    "import operator\n",
    "import multiprocessing as mp\n",
    "import shutil\n",
    "import tempfile\n",
    "#from ipyparallel import Client\n",
    "import scandir\n",
    "import glob\n",
    "from Bio.SeqIO.QualityIO import FastqGeneralIterator\n",
    "import pickle\n",
    "import re\n",
    "from itertools import chain\n",
    "#import Levenshtein as lv"
   ]
  },
  {
   "cell_type": "code",
   "execution_count": 99,
   "metadata": {
    "ExecuteTime": {}
   },
   "outputs": [],
   "source": [
    "root = \"/data/gpfs/assoc/denovo/tfaske/rabbruh\""
   ]
  },
  {
   "cell_type": "code",
   "execution_count": 100,
   "metadata": {
    "ExecuteTime": {}
   },
   "outputs": [
    {
     "name": "stdout",
     "output_type": "stream",
     "text": [
      "/data/gpfs/assoc/denovo/tfaske/rabbruh\n"
     ]
    }
   ],
   "source": [
    "cd $root"
   ]
  },
  {
   "cell_type": "code",
   "execution_count": 101,
   "metadata": {
    "ExecuteTime": {}
   },
   "outputs": [
    {
     "data": {
      "text/plain": [
       "'/data/gpfs/assoc/denovo/tfaske/rabbruh'"
      ]
     },
     "execution_count": 101,
     "metadata": {},
     "output_type": "execute_result"
    }
   ],
   "source": [
    "pwd"
   ]
  },
  {
   "cell_type": "markdown",
   "metadata": {},
   "source": [
    "# Actual Mapping \n",
    " "
   ]
  },
  {
   "cell_type": "code",
   "execution_count": 102,
   "metadata": {
    "ExecuteTime": {}
   },
   "outputs": [],
   "source": [
    "fastq_files = []\n",
    "for seqdir in ['fastq/']:\n",
    "    os.chdir('{}/{}'.format(root, seqdir))\n",
    "    files = !find . -name '*fq.gz'\n",
    "    files = [os.path.abspath(x) for x in files]\n",
    "    for x in files:\n",
    "        fastq_files.append(x)\n",
    "fastq_files = sorted(fastq_files)"
   ]
  },
  {
   "cell_type": "code",
   "execution_count": 103,
   "metadata": {
    "ExecuteTime": {}
   },
   "outputs": [
    {
     "data": {
      "text/plain": [
       "(400, '/data/gpfs/assoc/denovo/tfaske/rabbruh/fastq/EN_TF_1.F.fq.gz')"
      ]
     },
     "execution_count": 103,
     "metadata": {},
     "output_type": "execute_result"
    }
   ],
   "source": [
    "len(fastq_files),fastq_files[0]"
   ]
  },
  {
   "cell_type": "code",
   "execution_count": 104,
   "metadata": {},
   "outputs": [
    {
     "name": "stdout",
     "output_type": "stream",
     "text": [
      "/data/gpfs/assoc/denovo/tfaske/rabbruh\n"
     ]
    }
   ],
   "source": [
    "cd $root"
   ]
  },
  {
   "cell_type": "code",
   "execution_count": 105,
   "metadata": {
    "ExecuteTime": {}
   },
   "outputs": [],
   "source": [
    "assembly = \"/data/gpfs/assoc/denovo/tfaske/rabbruh/assembly/reference.fasta\"\n",
    "\n",
    "#indexed done by dDocent "
   ]
  },
  {
   "cell_type": "code",
   "execution_count": 109,
   "metadata": {
    "ExecuteTime": {}
   },
   "outputs": [],
   "source": [
    "# -k INT minimum seed length [19]\n",
    "# -w INT band width for banded alignment [100]\n",
    "# -r FLOAT look for internal seeds inside a seed longer than {-k} * FLOAT [1.5]\n",
    "# -T INT minimum score to output [30]\n",
    "# -R STR read group header line such as '@RG\\tID:foo\\tSM:bar' [null]\n",
    "\n",
    "#@lview.remote()\n",
    "def run_bwamem(args):\n",
    "    import os, multiprocessing, socket #stopwatch,\n",
    "    #timer = stopwatch.Timer()\n",
    "    cpus = 16\n",
    "    assembly, fq, outdir = args\n",
    "    ID = fq.split('/')[8]\n",
    "    ID = ID.split('.F.')[0]\n",
    "    sam = os.path.join(outdir, \"{}.sam\".format(os.path.basename(ID)))\n",
    "    #sam = tempfile.NamedTemporaryFile(delete=False, dir=\"/tmp\")\n",
    "    #print(fq)\n",
    "    #print(ID)\n",
    "    #print (sam)\n",
    "    ##from command line, this works: bwa mem -k 20 -w 100 -r 1.3 -T 30 -R \n",
    "    #'@RG\\tID:16_p0045_1\\tLB:16_p0045_1\\tSM:16_p0045_1\\tPL:ILLUMINA' \n",
    "    #re_mod_map_timema_06Jun2016_RvNkF702.fasta 16_p0045_1.fastq >  aln_16_p0045_1.sam\n",
    "    cmd = r\"bwa mem -k 20 -w 100 -r 1.3 -T 30 -R '@RG\\tID:%s\\tLB:%s\\tSM:%s\\tPL:ILLUMINA' %s %s > %s\" % (ID,ID,ID,assembly,fq,sam)\n",
    "                                                               \n",
    "    res = None\n",
    "    res = cmd\n",
    "    return  cmd "
   ]
  },
  {
   "cell_type": "code",
   "execution_count": 110,
   "metadata": {},
   "outputs": [],
   "source": [
    "bwa_dir = \"/data/gpfs/assoc/denovo/tfaske/rabbruh/SNPcall/bwa/\"\n",
    "assert(bwa_dir)"
   ]
  },
  {
   "cell_type": "code",
   "execution_count": 111,
   "metadata": {},
   "outputs": [],
   "source": [
    "res = []\n",
    "for f in fastq_files:\n",
    "    r = run_bwamem((assembly, f, bwa_dir))\n",
    "    res.append(r)"
   ]
  },
  {
   "cell_type": "code",
   "execution_count": 112,
   "metadata": {},
   "outputs": [
    {
     "data": {
      "text/plain": [
       "\"bwa mem -k 20 -w 100 -r 1.3 -T 30 -R '@RG\\\\tID:EN_TF_1\\\\tLB:EN_TF_1\\\\tSM:EN_TF_1\\\\tPL:ILLUMINA' /data/gpfs/assoc/denovo/tfaske/rabbruh/assembly/reference.fasta /data/gpfs/assoc/denovo/tfaske/rabbruh/fastq/EN_TF_1.F.fq.gz > /data/gpfs/assoc/denovo/tfaske/rabbruh/SNPcall/bwa/EN_TF_1.sam\""
      ]
     },
     "execution_count": 112,
     "metadata": {},
     "output_type": "execute_result"
    }
   ],
   "source": [
    "res[0]"
   ]
  },
  {
   "cell_type": "code",
   "execution_count": 113,
   "metadata": {},
   "outputs": [
    {
     "data": {
      "text/plain": [
       "'/data/gpfs/assoc/denovo/tfaske/rabbruh'"
      ]
     },
     "execution_count": 113,
     "metadata": {},
     "output_type": "execute_result"
    }
   ],
   "source": [
    "pwd"
   ]
  },
  {
   "cell_type": "code",
   "execution_count": 198,
   "metadata": {},
   "outputs": [],
   "source": [
    "### select options\n",
    "account = 'cpu-s5-denovo-0'\n",
    "partition = 'cpu-core-0'\n",
    "jobname = 'rabbruh'\n",
    "time = '4-00:00:00' #time limit 4 days\n",
    "cpus = 64\n",
    "mem_cpu = 2500\n",
    "email = 'tfaske@nevada.unr.edu'"
   ]
  },
  {
   "cell_type": "code",
   "execution_count": 205,
   "metadata": {
    "ExecuteTime": {}
   },
   "outputs": [],
   "source": [
    "def write_bwamem_sh(account,partition,jobname,time,cpus,mem_cpu,email,cmds):\n",
    "    #print(account)\n",
    "    #print(partition)\n",
    "    #print(cpus)\n",
    "    #print(email)\n",
    "    #print(cmds[0])\n",
    "    with open(\"SNPcall/run_bwamem.sh\", \"w\") as o:\n",
    "        o.write(\"\"\"#!/usr/bin/env bash\n",
    "#SBATCH --account=%s\n",
    "#SBATCH --partition=%s\n",
    "#SBATCH --time=%s\n",
    "#SBATCH --ntasks 1\n",
    "#SBATCH --cpus-per-task %d\n",
    "#SBATCH --mem-per-cpu=%d\n",
    "#SBATCH --job-name %s_bwamem\n",
    "#SBATCH --output output_bwamem.txt\n",
    "#SBATCH --mail-type=BEGIN,END\n",
    "#SBATCH --mail-user=%s \\n\\n\"\"\" % (account,partition,time,int(cpus),int(mem_cpu),jobname,email))\n",
    "        for elem in cmds:\n",
    "            o.write(\"%s \\n\" % (elem))"
   ]
  },
  {
   "cell_type": "code",
   "execution_count": 206,
   "metadata": {},
   "outputs": [
    {
     "name": "stdout",
     "output_type": "stream",
     "text": [
      "/data/gpfs/assoc/denovo/tfaske/rabbruh\n"
     ]
    }
   ],
   "source": [
    "cd $root"
   ]
  },
  {
   "cell_type": "code",
   "execution_count": 207,
   "metadata": {},
   "outputs": [],
   "source": [
    "write_bwamem_sh(account,partition,jobname,time,cpus,mem_cpu,email,res)"
   ]
  },
  {
   "cell_type": "markdown",
   "metadata": {},
   "source": [
    "# Run run_bwamem.sh\n",
    "    cd /data/gpfs/assoc/denovo/tfaske/rabbruh/SNPcall \n",
    "    source activate py36\n",
    "    sbatch run_bwamem.sh"
   ]
  },
  {
   "cell_type": "markdown",
   "metadata": {},
   "source": [
    "# run_bwamem timed out\n",
    "    write new shell script for ones that didn't get completed"
   ]
  },
  {
   "cell_type": "code",
   "execution_count": 128,
   "metadata": {
    "ExecuteTime": {}
   },
   "outputs": [],
   "source": [
    "fqs = !find /data/gpfs/assoc/denovo/tfaske/rabbruh/fastq/ -name \"*fq.gz\""
   ]
  },
  {
   "cell_type": "code",
   "execution_count": 129,
   "metadata": {
    "ExecuteTime": {}
   },
   "outputs": [],
   "source": [
    "sams = !find $bwa_dir -name \"*.sam\""
   ]
  },
  {
   "cell_type": "code",
   "execution_count": 130,
   "metadata": {
    "ExecuteTime": {}
   },
   "outputs": [
    {
     "data": {
      "text/plain": [
       "(400, 131)"
      ]
     },
     "execution_count": 130,
     "metadata": {},
     "output_type": "execute_result"
    }
   ],
   "source": [
    "len(fqs), len(sams)"
   ]
  },
  {
   "cell_type": "code",
   "execution_count": 131,
   "metadata": {},
   "outputs": [
    {
     "name": "stdout",
     "output_type": "stream",
     "text": [
      "/data/gpfs/assoc/denovo/tfaske/rabbruh/fastq/EN_TF_67.F.fq.gz\n",
      "/data/gpfs/assoc/denovo/tfaske/rabbruh/SNPcall/bwa/EN_TF_159.sam\n"
     ]
    }
   ],
   "source": [
    "print(fqs[0])\n",
    "print(sams[0])"
   ]
  },
  {
   "cell_type": "code",
   "execution_count": 134,
   "metadata": {},
   "outputs": [],
   "source": [
    "fq_ID = [f.split('/')[8].split('.F.')[0] for f in fqs]\n",
    "sam_ID = [s.split('/')[9].split('.sam')[0] for s in sams]"
   ]
  },
  {
   "cell_type": "code",
   "execution_count": 135,
   "metadata": {},
   "outputs": [
    {
     "name": "stdout",
     "output_type": "stream",
     "text": [
      "EN_TF_67\n",
      "EN_TF_159\n"
     ]
    }
   ],
   "source": [
    "print(fq_ID[0])\n",
    "print(sam_ID[0])"
   ]
  },
  {
   "cell_type": "code",
   "execution_count": 150,
   "metadata": {},
   "outputs": [
    {
     "data": {
      "text/plain": [
       "(269, 269)"
      ]
     },
     "execution_count": 150,
     "metadata": {},
     "output_type": "execute_result"
    }
   ],
   "source": [
    "fq_sam_diff = list(set(fq_ID).difference(sam_ID))\n",
    "len(fq_sam_diff), len(fqs) - len(sams)"
   ]
  },
  {
   "cell_type": "code",
   "execution_count": 149,
   "metadata": {},
   "outputs": [],
   "source": [
    "fq_sam_diff = list(set(fq_ID).difference(sam_ID))"
   ]
  },
  {
   "cell_type": "code",
   "execution_count": 163,
   "metadata": {},
   "outputs": [],
   "source": [
    "fastq_redo = []\n",
    "for f in fq_sam_diff:\n",
    "    f = f + '.F.fq.gz'\n",
    "    os.chdir('{}/{}'.format(root, 'fastq'))\n",
    "    files = !find . -name $f\n",
    "    files = [os.path.abspath(x) for x in files]\n",
    "    for x in files:\n",
    "        fastq_redo.append(x)\n",
    "fastq_redo = sorted(fastq_redo)"
   ]
  },
  {
   "cell_type": "code",
   "execution_count": 169,
   "metadata": {},
   "outputs": [
    {
     "name": "stdout",
     "output_type": "stream",
     "text": [
      "269 /data/gpfs/assoc/denovo/tfaske/rabbruh/fastq/EN_TF_217.F.fq.gz\n"
     ]
    }
   ],
   "source": [
    "print(len(fastq_redo),fastq_redo[0])\n",
    "assert len(fastq_redo) == len(fq_sam_diff) == len(fqs) - len(sams)"
   ]
  },
  {
   "cell_type": "code",
   "execution_count": 170,
   "metadata": {},
   "outputs": [],
   "source": [
    "res_redo = []\n",
    "for f in fastq_redo:\n",
    "    r = run_bwamem((assembly, f, bwa_dir))\n",
    "    res_redo.append(r)"
   ]
  },
  {
   "cell_type": "code",
   "execution_count": 172,
   "metadata": {},
   "outputs": [
    {
     "data": {
      "text/plain": [
       "(269,\n",
       " \"bwa mem -k 20 -w 100 -r 1.3 -T 30 -R '@RG\\\\tID:EN_TF_217\\\\tLB:EN_TF_217\\\\tSM:EN_TF_217\\\\tPL:ILLUMINA' /data/gpfs/assoc/denovo/tfaske/rabbruh/assembly/reference.fasta /data/gpfs/assoc/denovo/tfaske/rabbruh/fastq/EN_TF_217.F.fq.gz > /data/gpfs/assoc/denovo/tfaske/rabbruh/SNPcall/bwa/EN_TF_217.sam\")"
      ]
     },
     "execution_count": 172,
     "metadata": {},
     "output_type": "execute_result"
    }
   ],
   "source": [
    "len(res_redo),res_redo[0]"
   ]
  },
  {
   "cell_type": "code",
   "execution_count": 244,
   "metadata": {},
   "outputs": [],
   "source": [
    "### select options\n",
    "account = 'cpu-s1-bionres-0'\n",
    "partition = 'cpu-s1-bionres-0'\n",
    "jobname = 'rabbruh'\n",
    "time = '4-00:00:00' #time limit 4 days\n",
    "cpus = 30\n",
    "mem_cpu = 2500\n",
    "email = 'tfaske@nevada.unr.edu'"
   ]
  },
  {
   "cell_type": "code",
   "execution_count": 245,
   "metadata": {},
   "outputs": [],
   "source": [
    "def write_bwamem_redo_sh(account,partition,jobname,time,cpus,mem_cpu,email,cmds):\n",
    "    #print(account)\n",
    "    #print(partition)\n",
    "    #print(cpus)\n",
    "    #print(email)\n",
    "    #print(cmds[0])\n",
    "    with open(\"SNPcall/run_bwamem_bionres.sh\", \"w\") as o:\n",
    "        o.write(\"\"\"#!/usr/bin/env bash\n",
    "#SBATCH --account=%s\n",
    "#SBATCH --partition=%s\n",
    "#SBATCH --time=%s\n",
    "#SBATCH --ntasks 1\n",
    "#SBATCH --cpus-per-task %d\n",
    "#SBATCH --mem-per-cpu=%d\n",
    "#SBATCH --job-name %s_bwamem\n",
    "#SBATCH --output output_bwamem_redo.txt\n",
    "#SBATCH --mail-type=BEGIN,END\n",
    "#SBATCH --mail-user=%s \\n\\n\"\"\" % (account,partition,time,int(cpus),int(mem_cpu),jobname,email))\n",
    "        for elem in cmds:\n",
    "            o.write(\"%s \\n\" % (elem))"
   ]
  },
  {
   "cell_type": "code",
   "execution_count": 246,
   "metadata": {},
   "outputs": [
    {
     "name": "stdout",
     "output_type": "stream",
     "text": [
      "/data/gpfs/assoc/denovo/tfaske/rabbruh\n"
     ]
    }
   ],
   "source": [
    "cd $root"
   ]
  },
  {
   "cell_type": "code",
   "execution_count": 247,
   "metadata": {},
   "outputs": [],
   "source": [
    "write_bwamem_redo_sh(account,partition,jobname,time,cpus,mem_cpu,email,res_redo)"
   ]
  },
  {
   "cell_type": "markdown",
   "metadata": {},
   "source": [
    "# Write sh for each file and then bash to submit file"
   ]
  },
  {
   "cell_type": "code",
   "execution_count": 223,
   "metadata": {},
   "outputs": [
    {
     "name": "stdout",
     "output_type": "stream",
     "text": [
      "/data/gpfs/assoc/denovo/tfaske/rabbruh\n"
     ]
    }
   ],
   "source": [
    "cd $root"
   ]
  },
  {
   "cell_type": "code",
   "execution_count": 222,
   "metadata": {},
   "outputs": [],
   "source": [
    "!mkdir shbwa"
   ]
  },
  {
   "cell_type": "code",
   "execution_count": 210,
   "metadata": {},
   "outputs": [
    {
     "name": "stdout",
     "output_type": "stream",
     "text": [
      "269 /data/gpfs/assoc/denovo/tfaske/rabbruh/fastq/EN_TF_217.F.fq.gz\n"
     ]
    }
   ],
   "source": [
    "print(len(fastq_redo),fastq_redo[0])"
   ]
  },
  {
   "cell_type": "code",
   "execution_count": 211,
   "metadata": {},
   "outputs": [
    {
     "data": {
      "text/plain": [
       "\"bwa mem -k 20 -w 100 -r 1.3 -T 30 -R '@RG\\\\tID:EN_TF_217\\\\tLB:EN_TF_217\\\\tSM:EN_TF_217\\\\tPL:ILLUMINA' /data/gpfs/assoc/denovo/tfaske/rabbruh/assembly/reference.fasta /data/gpfs/assoc/denovo/tfaske/rabbruh/fastq/EN_TF_217.F.fq.gz > /data/gpfs/assoc/denovo/tfaske/rabbruh/SNPcall/bwa/EN_TF_217.sam\""
      ]
     },
     "execution_count": 211,
     "metadata": {},
     "output_type": "execute_result"
    }
   ],
   "source": [
    "res_redo[0]"
   ]
  },
  {
   "cell_type": "code",
   "execution_count": 212,
   "metadata": {},
   "outputs": [
    {
     "name": "stdout",
     "output_type": "stream",
     "text": [
      "269 EN_TF_217\n"
     ]
    }
   ],
   "source": [
    "fq_ID = [f.split('/')[8].split('.F.')[0] for f in fastq_redo]\n",
    "print(len(fq_ID),fq_ID[0])"
   ]
  },
  {
   "cell_type": "code",
   "execution_count": 213,
   "metadata": {},
   "outputs": [],
   "source": [
    "### select options\n",
    "account = 'cpu-s5-denovo-0'\n",
    "partition = 'cpu-core-0'\n",
    "jobname = 'rabbruh'\n",
    "cpus = 1\n",
    "mem_cpu = 2500\n",
    "email = 'tfaske@nevada.unr.edu'"
   ]
  },
  {
   "cell_type": "code",
   "execution_count": 230,
   "metadata": {},
   "outputs": [],
   "source": [
    "def write_bwamem_ind_sh(account,partition,jobname,cpus,mem_cpu,email,fq_ID,cmds):\n",
    "    #print(account)\n",
    "    #print(partition)\n",
    "    #print(cpus)\n",
    "    #print(email)\n",
    "    #print(cmds[0])\n",
    "    for i in range(0,len(cmds)):\n",
    "        with open(\"SNPcall/shbwa/run_bwamem_%s.sh\" % (fq_ID[i]), \"w\") as o:\n",
    "            o.write(\"\"\"#!/usr/bin/env bash\n",
    "    #SBATCH --account=%s\n",
    "    #SBATCH --partition=%s\n",
    "    #SBATCH --ntasks 1\n",
    "    #SBATCH --cpus-per-task %d\n",
    "    #SBATCH --mem-per-cpu=%d\n",
    "    #SBATCH --job-name %s_bwamem\n",
    "    #SBATCH --output output_bwamem_%s.txt\n",
    "    #SBATCH --mail-user=%s \\n\\n\n",
    "    \n",
    "    %s \\n\"\"\" % (account,partition,int(cpus),int(mem_cpu),fq_ID,fq_ID,email,cmds[i]))"
   ]
  },
  {
   "cell_type": "code",
   "execution_count": 231,
   "metadata": {},
   "outputs": [],
   "source": [
    "write_bwamem_ind_sh(account,partition,jobname,cpus,mem_cpu,email,fq_ID,res_redo)"
   ]
  },
  {
   "cell_type": "code",
   "execution_count": 232,
   "metadata": {},
   "outputs": [],
   "source": [
    "#find all sh and write bash script\n",
    "shbwa_files = []\n",
    "os.chdir('{}/{}'.format(root, 'SNPcall/shbwa'))\n",
    "files = !find . -name '*.sh'\n",
    "files = [os.path.abspath(x) for x in files]\n",
    "for x in files:\n",
    "        shbwa_files.append(x)\n",
    "shbwa_files = sorted(shbwa_files)"
   ]
  },
  {
   "cell_type": "code",
   "execution_count": 233,
   "metadata": {},
   "outputs": [
    {
     "data": {
      "text/plain": [
       "(269,\n",
       " '/data/gpfs/assoc/denovo/tfaske/rabbruh/SNPcall/shbwa/run_bwamem_EN_TF_217.sh')"
      ]
     },
     "execution_count": 233,
     "metadata": {},
     "output_type": "execute_result"
    }
   ],
   "source": [
    "len(shbwa_files),shbwa_files[0]"
   ]
  },
  {
   "cell_type": "code",
   "execution_count": 237,
   "metadata": {},
   "outputs": [],
   "source": [
    "def write_bash_bwamem_sh(sh_files):\n",
    "    with open(\"SNPcall/run_bash_bwa.sh\", \"w\") as o:\n",
    "        o.write(\"\"\"#!/usr/bin/env bash \\n\\n\"\"\")\n",
    "        for f in sh_files:\n",
    "            o.write(\"sbatch %s \\n\" % (f))    "
   ]
  },
  {
   "cell_type": "code",
   "execution_count": 238,
   "metadata": {},
   "outputs": [
    {
     "name": "stdout",
     "output_type": "stream",
     "text": [
      "/data/gpfs/assoc/denovo/tfaske/rabbruh\n"
     ]
    }
   ],
   "source": [
    "cd $root"
   ]
  },
  {
   "cell_type": "code",
   "execution_count": 239,
   "metadata": {},
   "outputs": [],
   "source": [
    " write_bash_bwamem_sh(shbwa_files)"
   ]
  },
  {
   "cell_type": "markdown",
   "metadata": {},
   "source": [
    "# Run run_bash_bwamem_sh\n",
    "    cd /data/gpfs/assoc/denovo/tfaske/rabbruh/SNPcall \n",
    "    source activate py36\n",
    "    bash run_bash_bwa.sh"
   ]
  },
  {
   "cell_type": "markdown",
   "metadata": {},
   "source": [
    "# sam2bam"
   ]
  },
  {
   "cell_type": "code",
   "execution_count": 250,
   "metadata": {},
   "outputs": [],
   "source": [
    "fqs = !find /data/gpfs/assoc/denovo/tfaske/rabbruh/fastq/ -name \"*fq.gz\"\n",
    "sams = !find $bwa_dir -name \"*.sam\""
   ]
  },
  {
   "cell_type": "code",
   "execution_count": 251,
   "metadata": {},
   "outputs": [
    {
     "data": {
      "text/plain": [
       "(400, 400)"
      ]
     },
     "execution_count": 251,
     "metadata": {},
     "output_type": "execute_result"
    }
   ],
   "source": [
    "len(fqs), len(sams)"
   ]
  },
  {
   "cell_type": "code",
   "execution_count": 252,
   "metadata": {},
   "outputs": [],
   "source": [
    "SNPcall_dir = \"/data/gpfs/assoc/denovo/tfaske/rabbruh/SNPcall/\"\n",
    "assert(SNPcall_dir)"
   ]
  },
  {
   "cell_type": "code",
   "execution_count": 253,
   "metadata": {
    "ExecuteTime": {}
   },
   "outputs": [
    {
     "name": "stdout",
     "output_type": "stream",
     "text": [
      "/data/gpfs/assoc/denovo/tfaske/rabbruh/SNPcall\n"
     ]
    }
   ],
   "source": [
    "cd $SNPcall_dir"
   ]
  },
  {
   "cell_type": "code",
   "execution_count": 254,
   "metadata": {},
   "outputs": [],
   "source": [
    "### select options\n",
    "account = 'cpu-s1-bionres-0'\n",
    "partition = 'cpu-s1-bionres-0'\n",
    "jobname = 'rabbruh'\n",
    "time = '4-00:00:00' #time limit 4 days\n",
    "cpus = 30\n",
    "mem_cpu = 2500\n",
    "email = 'tfaske@nevada.unr.edu'"
   ]
  },
  {
   "cell_type": "code",
   "execution_count": 261,
   "metadata": {},
   "outputs": [],
   "source": [
    "def write_sam2bam_sh(account,partition,cpus,mem_cpu,jobname,email,sams):\n",
    "    with open(\"./run_sam2bam.sh\", \"w\") as o:\n",
    "        o.write(\"\"\"#!/usr/bin/env bash\n",
    "#SBATCH --account=%s\n",
    "#SBATCH --partition=%s\n",
    "#SBATCH --ntasks 1\n",
    "#SBATCH --cpus-per-task %d\n",
    "#SBATCH --mem-per-cpu=%d\n",
    "#SBATCH --job-name %s_sam2bam\n",
    "#SBATCH --output output_sam2bam.txt\n",
    "#SBATCH --mail-type=BEGIN,END\n",
    "#SBATCH --mail-user=%s \\n\\n\"\"\" % (account,partition,int(cpus),int(mem_cpu),jobname,email))\n",
    "        for s in sams:\n",
    "            bam = s.replace(\".sam\", \".bam\")\n",
    "            bam_sorted = \"%s_sorted.bam\" % bam.replace(\".bam\", \"\")\n",
    "            o.write(\"samtools view -b {0} -o {1}\\nsamtools sort -@ {3} {1} -o {2}\\nsamtools index {2}\\n\".format(s,bam,bam_sorted,cpus))"
   ]
  },
  {
   "cell_type": "code",
   "execution_count": 262,
   "metadata": {},
   "outputs": [],
   "source": [
    "write_sam2bam_sh(account,partition,cpus,mem_cpu,jobname,email,sams)"
   ]
  },
  {
   "cell_type": "markdown",
   "metadata": {
    "ExecuteTime": {}
   },
   "source": [
    "# run_sam2bam.sh\n",
    "    cd /data/gpfs/home/tfaske/d/rabbruh/SNPcall \n",
    "    source activate py36\n",
    "    sbatch run_sam2bam.sh\n"
   ]
  },
  {
   "cell_type": "code",
   "execution_count": 263,
   "metadata": {},
   "outputs": [
    {
     "name": "stdout",
     "output_type": "stream",
     "text": [
      "/data/gpfs/assoc/denovo/tfaske/rabbruh/SNPcall/bwa\n"
     ]
    }
   ],
   "source": [
    "cd $bwa_dir"
   ]
  },
  {
   "cell_type": "code",
   "execution_count": 268,
   "metadata": {
    "ExecuteTime": {}
   },
   "outputs": [
    {
     "data": {
      "text/plain": [
       "(400, 400, 400)"
      ]
     },
     "execution_count": 268,
     "metadata": {},
     "output_type": "execute_result"
    }
   ],
   "source": [
    "sorted_bams = []\n",
    "files = !find . -type f -name '*sorted.bam'\n",
    "files = [os.path.abspath(x) for x in files if 'bam' in x]\n",
    "for x in files:\n",
    "    sorted_bams.append(x)\n",
    "sorted_bams = sorted(sorted_bams)\n",
    "\n",
    "#assert len(sorted_bams) == len(fastq_files)\n",
    "\n",
    "len(sorted_bams), len(fqs), len(sams)\n",
    "#missing 3 bam files from lane1"
   ]
  },
  {
   "cell_type": "code",
   "execution_count": null,
   "metadata": {},
   "outputs": [],
   "source": []
  },
  {
   "cell_type": "code",
   "execution_count": null,
   "metadata": {},
   "outputs": [],
   "source": []
  }
 ],
 "metadata": {
  "kernelspec": {
   "display_name": "Python 3",
   "language": "python",
   "name": "python3"
  },
  "language_info": {
   "codemirror_mode": {
    "name": "ipython",
    "version": 3
   },
   "file_extension": ".py",
   "mimetype": "text/x-python",
   "name": "python",
   "nbconvert_exporter": "python",
   "pygments_lexer": "ipython3",
   "version": "3.6.9"
  }
 },
 "nbformat": 4,
 "nbformat_minor": 1
}
