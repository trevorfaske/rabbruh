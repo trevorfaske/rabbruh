{
 "cells": [
  {
   "cell_type": "code",
   "execution_count": 16,
   "metadata": {},
   "outputs": [
    {
     "name": "stdout",
     "output_type": "stream",
     "text": [
      "/usr/bin/sh: line 0: source: activate: file not found\r\n"
     ]
    }
   ],
   "source": [
    "!source activate py36"
   ]
  },
  {
   "cell_type": "code",
   "execution_count": 17,
   "metadata": {},
   "outputs": [],
   "source": [
    "import sys\n",
    "\n",
    "#sys.path.append('/home/faske/g/anaconda3/envs/py34/lib/python3.4/site-packages')\n",
    "sys.path.append('/data/gpfs/assoc/parchmanlab/tfaske/anaconda3/envs/py36/lib/python3.6/site-packages')\n",
    "sys.path.append(\"/data/gpfs/assoc/parchmanlab/tfaske/ipynb/include_utils\")\n",
    "\n",
    "import ipyparallel as ipp\n",
    "import os, time\n",
    "import include_utils as u\n",
    "import pandas as pd\n",
    "import numpy as np\n",
    "import scipy as sp\n",
    "import numbers\n",
    "import matplotlib.pyplot as plt\n",
    "import matplotlib.patches as mpatches\n",
    "import matplotlib.cm as cm\n",
    "import matplotlib.colors as mcolors\n",
    "#import vcf\n",
    "from sklearn import preprocessing\n",
    "from subprocess import Popen, PIPE, call, check_output\n",
    "import seaborn as sns\n",
    "from IPython.display import FileLink\n",
    "import urllib.request as urllib2\n",
    "import dill\n",
    "import traceback\n",
    "from pandas import Series, DataFrame\n",
    "import gzip\n",
    "import warnings\n",
    "warnings.filterwarnings('ignore',category=pd.io.pytables.PerformanceWarning)\n",
    "%config InlineBackend.figure_format = 'retina'\n",
    "from Bio import SeqIO\n",
    "#import pysam\n",
    "from collections import OrderedDict, namedtuple, Counter\n",
    "import operator\n",
    "import multiprocessing as mp\n",
    "import shutil\n",
    "import tempfile\n",
    "#from ipyparallel import Client\n",
    "import scandir\n",
    "import glob\n",
    "from Bio.SeqIO.QualityIO import FastqGeneralIterator\n",
    "import pickle\n",
    "import re\n",
    "from itertools import chain\n",
    "#import Levenshtein as lv"
   ]
  },
  {
   "cell_type": "code",
   "execution_count": 18,
   "metadata": {},
   "outputs": [],
   "source": [
    "snp_dir = \"/data/gpfs/home/tfaske/d/rabbruh/SNPcall\""
   ]
  },
  {
   "cell_type": "code",
   "execution_count": 19,
   "metadata": {
    "ExecuteTime": {}
   },
   "outputs": [],
   "source": [
    "bwa_dir = \"/data/gpfs/home/tfaske/d/rabbruh/SNPcall/bwa\""
   ]
  },
  {
   "cell_type": "code",
   "execution_count": 20,
   "metadata": {},
   "outputs": [
    {
     "name": "stdout",
     "output_type": "stream",
     "text": [
      "/data/gpfs/assoc/denovo/tfaske/rabbruh/SNPcall/bwa\n"
     ]
    }
   ],
   "source": [
    "cd $bwa_dir"
   ]
  },
  {
   "cell_type": "code",
   "execution_count": 21,
   "metadata": {
    "ExecuteTime": {}
   },
   "outputs": [],
   "source": [
    "bam_files = []\n",
    "files = !find . -type f -name '*sorted.bam'\n",
    "files = [os.path.abspath(x) for x in files if 'bam' in x]\n",
    "for x in files:\n",
    "    bam_files.append(x)\n",
    "bam_files = sorted(bam_files)"
   ]
  },
  {
   "cell_type": "code",
   "execution_count": 22,
   "metadata": {
    "ExecuteTime": {}
   },
   "outputs": [
    {
     "data": {
      "text/plain": [
       "(400,\n",
       " '/data/gpfs/assoc/denovo/tfaske/rabbruh/SNPcall/bwa/EN_TF_100_sorted.bam')"
      ]
     },
     "execution_count": 22,
     "metadata": {},
     "output_type": "execute_result"
    }
   ],
   "source": [
    "len(bam_files), bam_files[0]"
   ]
  },
  {
   "cell_type": "code",
   "execution_count": 23,
   "metadata": {
    "ExecuteTime": {}
   },
   "outputs": [],
   "source": [
    "samtools = \"samtools\"\n",
    "bcftools = \"bcftools\"\n",
    "java = \"java\"\n",
    "perl = \"perl\"\n",
    "#perl = \"/home/cfriedline/gpfs/opt/ActivePerl-5.18/bin/perl\""
   ]
  },
  {
   "cell_type": "code",
   "execution_count": 24,
   "metadata": {
    "ExecuteTime": {}
   },
   "outputs": [],
   "source": [
    "assembly = \"/data/gpfs/assoc/denovo/tfaske/rabbruh/assembly/reference.fasta\"\n",
    "\n",
    "#indexed done by dDocent "
   ]
  },
  {
   "cell_type": "code",
   "execution_count": 25,
   "metadata": {
    "ExecuteTime": {}
   },
   "outputs": [],
   "source": [
    "!$samtools faidx {assembly}"
   ]
  },
  {
   "cell_type": "markdown",
   "metadata": {},
   "source": [
    "# Calculates coverage from bam_files\n",
    "also outputs a file called \"bam_coverage.csv\" in the bam folder"
   ]
  },
  {
   "cell_type": "code",
   "execution_count": 26,
   "metadata": {},
   "outputs": [
    {
     "name": "stdout",
     "output_type": "stream",
     "text": [
      "/data/gpfs/assoc/denovo/tfaske/rabbruh/SNPcall/bwa\n"
     ]
    }
   ],
   "source": [
    "cd $bwa_dir"
   ]
  },
  {
   "cell_type": "code",
   "execution_count": 27,
   "metadata": {},
   "outputs": [],
   "source": [
    "bam_files = []\n",
    "files = !find . -type f -name '*sorted.bam'\n",
    "files = [os.path.abspath(x) for x in files if 'bam' in x]\n",
    "for x in files:\n",
    "    bam_files.append(x)\n",
    "bam_files = sorted(bam_files)"
   ]
  },
  {
   "cell_type": "code",
   "execution_count": 28,
   "metadata": {},
   "outputs": [
    {
     "data": {
      "text/plain": [
       "(400,\n",
       " '/data/gpfs/assoc/denovo/tfaske/rabbruh/SNPcall/bwa/EN_TF_100_sorted.bam')"
      ]
     },
     "execution_count": 28,
     "metadata": {},
     "output_type": "execute_result"
    }
   ],
   "source": [
    "len(bam_files), bam_files[0]"
   ]
  },
  {
   "cell_type": "code",
   "execution_count": 30,
   "metadata": {},
   "outputs": [
    {
     "name": "stdout",
     "output_type": "stream",
     "text": [
      "/data/gpfs/assoc/denovo/tfaske/rabbruh/SNPcall/bwa/EN_TF_100_sorted.bam\n",
      "17.86849933000777 EN_TF_100_sorted.bam\n",
      "/data/gpfs/assoc/denovo/tfaske/rabbruh/SNPcall/bwa/EN_TF_101_sorted.bam\n",
      "26.880883451585888 EN_TF_101_sorted.bam\n",
      "/data/gpfs/assoc/denovo/tfaske/rabbruh/SNPcall/bwa/EN_TF_102_sorted.bam\n",
      "30.86553182025473 EN_TF_102_sorted.bam\n",
      "/data/gpfs/assoc/denovo/tfaske/rabbruh/SNPcall/bwa/EN_TF_103_sorted.bam\n",
      "28.913262747221037 EN_TF_103_sorted.bam\n",
      "/data/gpfs/assoc/denovo/tfaske/rabbruh/SNPcall/bwa/EN_TF_104_sorted.bam\n",
      "23.663809440863005 EN_TF_104_sorted.bam\n",
      "/data/gpfs/assoc/denovo/tfaske/rabbruh/SNPcall/bwa/EN_TF_105_sorted.bam\n",
      "17.754194556529033 EN_TF_105_sorted.bam\n",
      "/data/gpfs/assoc/denovo/tfaske/rabbruh/SNPcall/bwa/EN_TF_106_sorted.bam\n",
      "22.943282051831456 EN_TF_106_sorted.bam\n",
      "/data/gpfs/assoc/denovo/tfaske/rabbruh/SNPcall/bwa/EN_TF_107_sorted.bam\n",
      "16.585821478727567 EN_TF_107_sorted.bam\n",
      "/data/gpfs/assoc/denovo/tfaske/rabbruh/SNPcall/bwa/EN_TF_108_sorted.bam\n",
      "28.29650022656289 EN_TF_108_sorted.bam\n",
      "/data/gpfs/assoc/denovo/tfaske/rabbruh/SNPcall/bwa/EN_TF_109_sorted.bam\n",
      "25.93470547772823 EN_TF_109_sorted.bam\n",
      "/data/gpfs/assoc/denovo/tfaske/rabbruh/SNPcall/bwa/EN_TF_10_sorted.bam\n",
      "33.2342844916671 EN_TF_10_sorted.bam\n",
      "/data/gpfs/assoc/denovo/tfaske/rabbruh/SNPcall/bwa/EN_TF_110_sorted.bam\n",
      "14.740929175951683 EN_TF_110_sorted.bam\n",
      "/data/gpfs/assoc/denovo/tfaske/rabbruh/SNPcall/bwa/EN_TF_111_sorted.bam\n",
      "21.832790135268265 EN_TF_111_sorted.bam\n",
      "/data/gpfs/assoc/denovo/tfaske/rabbruh/SNPcall/bwa/EN_TF_112_sorted.bam\n",
      "18.54567577113877 EN_TF_112_sorted.bam\n",
      "/data/gpfs/assoc/denovo/tfaske/rabbruh/SNPcall/bwa/EN_TF_113_sorted.bam\n",
      "20.598018552943905 EN_TF_113_sorted.bam\n",
      "/data/gpfs/assoc/denovo/tfaske/rabbruh/SNPcall/bwa/EN_TF_114_sorted.bam\n",
      "24.397827533815178 EN_TF_114_sorted.bam\n",
      "/data/gpfs/assoc/denovo/tfaske/rabbruh/SNPcall/bwa/EN_TF_115_sorted.bam\n",
      "14.866884555997157 EN_TF_115_sorted.bam\n",
      "/data/gpfs/assoc/denovo/tfaske/rabbruh/SNPcall/bwa/EN_TF_116_sorted.bam\n",
      "29.141009705566102 EN_TF_116_sorted.bam\n",
      "/data/gpfs/assoc/denovo/tfaske/rabbruh/SNPcall/bwa/EN_TF_117_sorted.bam\n",
      "22.626688828893084 EN_TF_117_sorted.bam\n",
      "/data/gpfs/assoc/denovo/tfaske/rabbruh/SNPcall/bwa/EN_TF_118_sorted.bam\n",
      "20.49571643698395 EN_TF_118_sorted.bam\n",
      "/data/gpfs/assoc/denovo/tfaske/rabbruh/SNPcall/bwa/EN_TF_119_sorted.bam\n",
      "12.563723825802954 EN_TF_119_sorted.bam\n",
      "/data/gpfs/assoc/denovo/tfaske/rabbruh/SNPcall/bwa/EN_TF_11_sorted.bam\n",
      "17.290990632155648 EN_TF_11_sorted.bam\n",
      "/data/gpfs/assoc/denovo/tfaske/rabbruh/SNPcall/bwa/EN_TF_120_sorted.bam\n",
      "19.949881915987213 EN_TF_120_sorted.bam\n",
      "/data/gpfs/assoc/denovo/tfaske/rabbruh/SNPcall/bwa/EN_TF_121_sorted.bam\n",
      "17.119737308648666 EN_TF_121_sorted.bam\n",
      "/data/gpfs/assoc/denovo/tfaske/rabbruh/SNPcall/bwa/EN_TF_122_sorted.bam\n",
      "25.642139974678297 EN_TF_122_sorted.bam\n",
      "/data/gpfs/assoc/denovo/tfaske/rabbruh/SNPcall/bwa/EN_TF_123_sorted.bam\n",
      "9.221320327626605 EN_TF_123_sorted.bam\n",
      "/data/gpfs/assoc/denovo/tfaske/rabbruh/SNPcall/bwa/EN_TF_124_sorted.bam\n",
      "15.47666579809145 EN_TF_124_sorted.bam\n",
      "/data/gpfs/assoc/denovo/tfaske/rabbruh/SNPcall/bwa/EN_TF_125_sorted.bam\n",
      "15.119556121693654 EN_TF_125_sorted.bam\n",
      "/data/gpfs/assoc/denovo/tfaske/rabbruh/SNPcall/bwa/EN_TF_126_sorted.bam\n",
      "12.194323193542616 EN_TF_126_sorted.bam\n",
      "/data/gpfs/assoc/denovo/tfaske/rabbruh/SNPcall/bwa/EN_TF_127_sorted.bam\n",
      "23.120259229970394 EN_TF_127_sorted.bam\n",
      "/data/gpfs/assoc/denovo/tfaske/rabbruh/SNPcall/bwa/EN_TF_128_sorted.bam\n",
      "16.600779586422217 EN_TF_128_sorted.bam\n",
      "/data/gpfs/assoc/denovo/tfaske/rabbruh/SNPcall/bwa/EN_TF_129_sorted.bam\n",
      "18.76125819978103 EN_TF_129_sorted.bam\n",
      "/data/gpfs/assoc/denovo/tfaske/rabbruh/SNPcall/bwa/EN_TF_12_sorted.bam\n",
      "29.99509906598156 EN_TF_12_sorted.bam\n",
      "/data/gpfs/assoc/denovo/tfaske/rabbruh/SNPcall/bwa/EN_TF_130_sorted.bam\n",
      "11.75785773952274 EN_TF_130_sorted.bam\n",
      "/data/gpfs/assoc/denovo/tfaske/rabbruh/SNPcall/bwa/EN_TF_131_sorted.bam\n",
      "11.422360120397476 EN_TF_131_sorted.bam\n",
      "/data/gpfs/assoc/denovo/tfaske/rabbruh/SNPcall/bwa/EN_TF_132_sorted.bam\n",
      "5.529274448034537 EN_TF_132_sorted.bam\n",
      "/data/gpfs/assoc/denovo/tfaske/rabbruh/SNPcall/bwa/EN_TF_133_sorted.bam\n",
      "17.902212490332218 EN_TF_133_sorted.bam\n",
      "/data/gpfs/assoc/denovo/tfaske/rabbruh/SNPcall/bwa/EN_TF_134_sorted.bam\n",
      "23.105455964641013 EN_TF_134_sorted.bam\n",
      "/data/gpfs/assoc/denovo/tfaske/rabbruh/SNPcall/bwa/EN_TF_135_sorted.bam\n",
      "24.216875464600726 EN_TF_135_sorted.bam\n",
      "/data/gpfs/assoc/denovo/tfaske/rabbruh/SNPcall/bwa/EN_TF_136_sorted.bam\n",
      "15.605845292031749 EN_TF_136_sorted.bam\n",
      "/data/gpfs/assoc/denovo/tfaske/rabbruh/SNPcall/bwa/EN_TF_137_sorted.bam\n",
      "12.62355956352516 EN_TF_137_sorted.bam\n",
      "/data/gpfs/assoc/denovo/tfaske/rabbruh/SNPcall/bwa/EN_TF_138_sorted.bam\n",
      "16.985841304789126 EN_TF_138_sorted.bam\n",
      "/data/gpfs/assoc/denovo/tfaske/rabbruh/SNPcall/bwa/EN_TF_139_sorted.bam\n",
      "16.30565657390335 EN_TF_139_sorted.bam\n",
      "/data/gpfs/assoc/denovo/tfaske/rabbruh/SNPcall/bwa/EN_TF_13_sorted.bam\n",
      "28.616335899026534 EN_TF_13_sorted.bam\n",
      "/data/gpfs/assoc/denovo/tfaske/rabbruh/SNPcall/bwa/EN_TF_140_sorted.bam\n",
      "18.59170072245727 EN_TF_140_sorted.bam\n",
      "/data/gpfs/assoc/denovo/tfaske/rabbruh/SNPcall/bwa/EN_TF_141_sorted.bam\n",
      "27.90825029760758 EN_TF_141_sorted.bam\n",
      "/data/gpfs/assoc/denovo/tfaske/rabbruh/SNPcall/bwa/EN_TF_142_sorted.bam\n",
      "22.369790968602548 EN_TF_142_sorted.bam\n",
      "/data/gpfs/assoc/denovo/tfaske/rabbruh/SNPcall/bwa/EN_TF_143_sorted.bam\n",
      "22.00075857646615 EN_TF_143_sorted.bam\n",
      "/data/gpfs/assoc/denovo/tfaske/rabbruh/SNPcall/bwa/EN_TF_144_sorted.bam\n",
      "20.409592232480126 EN_TF_144_sorted.bam\n",
      "/data/gpfs/assoc/denovo/tfaske/rabbruh/SNPcall/bwa/EN_TF_145_sorted.bam\n",
      "10.334637130680589 EN_TF_145_sorted.bam\n",
      "/data/gpfs/assoc/denovo/tfaske/rabbruh/SNPcall/bwa/EN_TF_146_sorted.bam\n",
      "22.340373131592173 EN_TF_146_sorted.bam\n",
      "/data/gpfs/assoc/denovo/tfaske/rabbruh/SNPcall/bwa/EN_TF_147_sorted.bam\n",
      "18.614843542041974 EN_TF_147_sorted.bam\n",
      "/data/gpfs/assoc/denovo/tfaske/rabbruh/SNPcall/bwa/EN_TF_148_sorted.bam\n",
      "17.802615066746704 EN_TF_148_sorted.bam\n",
      "/data/gpfs/assoc/denovo/tfaske/rabbruh/SNPcall/bwa/EN_TF_149_sorted.bam\n",
      "14.77677555239351 EN_TF_149_sorted.bam\n",
      "/data/gpfs/assoc/denovo/tfaske/rabbruh/SNPcall/bwa/EN_TF_14_sorted.bam\n",
      "30.855564021158532 EN_TF_14_sorted.bam\n",
      "/data/gpfs/assoc/denovo/tfaske/rabbruh/SNPcall/bwa/EN_TF_150_sorted.bam\n",
      "20.522450351444032 EN_TF_150_sorted.bam\n",
      "/data/gpfs/assoc/denovo/tfaske/rabbruh/SNPcall/bwa/EN_TF_151_sorted.bam\n",
      "13.423701181092923 EN_TF_151_sorted.bam\n",
      "/data/gpfs/assoc/denovo/tfaske/rabbruh/SNPcall/bwa/EN_TF_152_sorted.bam\n",
      "22.010060050767873 EN_TF_152_sorted.bam\n",
      "/data/gpfs/assoc/denovo/tfaske/rabbruh/SNPcall/bwa/EN_TF_153_sorted.bam\n",
      "15.538533680700956 EN_TF_153_sorted.bam\n",
      "/data/gpfs/assoc/denovo/tfaske/rabbruh/SNPcall/bwa/EN_TF_154_sorted.bam\n",
      "25.10665643907528 EN_TF_154_sorted.bam\n",
      "/data/gpfs/assoc/denovo/tfaske/rabbruh/SNPcall/bwa/EN_TF_155_sorted.bam\n",
      "20.90640928944724 EN_TF_155_sorted.bam\n",
      "/data/gpfs/assoc/denovo/tfaske/rabbruh/SNPcall/bwa/EN_TF_156_sorted.bam\n",
      "23.017841303834377 EN_TF_156_sorted.bam\n",
      "/data/gpfs/assoc/denovo/tfaske/rabbruh/SNPcall/bwa/EN_TF_157_sorted.bam\n",
      "7.473881145192805 EN_TF_157_sorted.bam\n",
      "/data/gpfs/assoc/denovo/tfaske/rabbruh/SNPcall/bwa/EN_TF_158_sorted.bam\n",
      "20.918014625936884 EN_TF_158_sorted.bam\n",
      "/data/gpfs/assoc/denovo/tfaske/rabbruh/SNPcall/bwa/EN_TF_159_sorted.bam\n",
      "31.472402098216055 EN_TF_159_sorted.bam\n",
      "/data/gpfs/assoc/denovo/tfaske/rabbruh/SNPcall/bwa/EN_TF_15_sorted.bam\n",
      "22.767382706595004 EN_TF_15_sorted.bam\n",
      "/data/gpfs/assoc/denovo/tfaske/rabbruh/SNPcall/bwa/EN_TF_160_sorted.bam\n",
      "17.863589150335905 EN_TF_160_sorted.bam\n",
      "/data/gpfs/assoc/denovo/tfaske/rabbruh/SNPcall/bwa/EN_TF_161_sorted.bam\n",
      "14.153428238955756 EN_TF_161_sorted.bam\n",
      "/data/gpfs/assoc/denovo/tfaske/rabbruh/SNPcall/bwa/EN_TF_162_sorted.bam\n",
      "15.471463978356288 EN_TF_162_sorted.bam\n",
      "/data/gpfs/assoc/denovo/tfaske/rabbruh/SNPcall/bwa/EN_TF_163_sorted.bam\n",
      "11.395071329638403 EN_TF_163_sorted.bam\n",
      "/data/gpfs/assoc/denovo/tfaske/rabbruh/SNPcall/bwa/EN_TF_164_sorted.bam\n",
      "15.629838129994589 EN_TF_164_sorted.bam\n",
      "/data/gpfs/assoc/denovo/tfaske/rabbruh/SNPcall/bwa/EN_TF_165_sorted.bam\n",
      "14.682365868846025 EN_TF_165_sorted.bam\n",
      "/data/gpfs/assoc/denovo/tfaske/rabbruh/SNPcall/bwa/EN_TF_166_sorted.bam\n",
      "25.460533228183557 EN_TF_166_sorted.bam\n",
      "/data/gpfs/assoc/denovo/tfaske/rabbruh/SNPcall/bwa/EN_TF_167_sorted.bam\n"
     ]
    },
    {
     "name": "stdout",
     "output_type": "stream",
     "text": [
      "22.868444504504563 EN_TF_167_sorted.bam\n",
      "/data/gpfs/assoc/denovo/tfaske/rabbruh/SNPcall/bwa/EN_TF_168_sorted.bam\n",
      "23.157938420132314 EN_TF_168_sorted.bam\n",
      "/data/gpfs/assoc/denovo/tfaske/rabbruh/SNPcall/bwa/EN_TF_169_sorted.bam\n",
      "17.125491780825502 EN_TF_169_sorted.bam\n",
      "/data/gpfs/assoc/denovo/tfaske/rabbruh/SNPcall/bwa/EN_TF_16_sorted.bam\n",
      "16.430330617637438 EN_TF_16_sorted.bam\n",
      "/data/gpfs/assoc/denovo/tfaske/rabbruh/SNPcall/bwa/EN_TF_170_sorted.bam\n",
      "9.851494819828927 EN_TF_170_sorted.bam\n",
      "/data/gpfs/assoc/denovo/tfaske/rabbruh/SNPcall/bwa/EN_TF_171_sorted.bam\n",
      "26.224258773842962 EN_TF_171_sorted.bam\n",
      "/data/gpfs/assoc/denovo/tfaske/rabbruh/SNPcall/bwa/EN_TF_172_sorted.bam\n",
      "11.929207252168148 EN_TF_172_sorted.bam\n",
      "/data/gpfs/assoc/denovo/tfaske/rabbruh/SNPcall/bwa/EN_TF_173_sorted.bam\n",
      "25.722275778338048 EN_TF_173_sorted.bam\n",
      "/data/gpfs/assoc/denovo/tfaske/rabbruh/SNPcall/bwa/EN_TF_174_sorted.bam\n",
      "23.492841422560634 EN_TF_174_sorted.bam\n",
      "/data/gpfs/assoc/denovo/tfaske/rabbruh/SNPcall/bwa/EN_TF_175_sorted.bam\n",
      "25.143703517604525 EN_TF_175_sorted.bam\n",
      "/data/gpfs/assoc/denovo/tfaske/rabbruh/SNPcall/bwa/EN_TF_176_sorted.bam\n",
      "26.59930946055213 EN_TF_176_sorted.bam\n",
      "/data/gpfs/assoc/denovo/tfaske/rabbruh/SNPcall/bwa/EN_TF_177_sorted.bam\n",
      "20.222307606868295 EN_TF_177_sorted.bam\n",
      "/data/gpfs/assoc/denovo/tfaske/rabbruh/SNPcall/bwa/EN_TF_178_sorted.bam\n",
      "19.098548679293984 EN_TF_178_sorted.bam\n",
      "/data/gpfs/assoc/denovo/tfaske/rabbruh/SNPcall/bwa/EN_TF_179_sorted.bam\n",
      "15.515455858837973 EN_TF_179_sorted.bam\n",
      "/data/gpfs/assoc/denovo/tfaske/rabbruh/SNPcall/bwa/EN_TF_17_sorted.bam\n",
      "11.428538131859419 EN_TF_17_sorted.bam\n",
      "/data/gpfs/assoc/denovo/tfaske/rabbruh/SNPcall/bwa/EN_TF_180_sorted.bam\n",
      "26.522453227158824 EN_TF_180_sorted.bam\n",
      "/data/gpfs/assoc/denovo/tfaske/rabbruh/SNPcall/bwa/EN_TF_181_sorted.bam\n",
      "20.437514499782367 EN_TF_181_sorted.bam\n",
      "/data/gpfs/assoc/denovo/tfaske/rabbruh/SNPcall/bwa/EN_TF_182_sorted.bam\n",
      "19.579387422907576 EN_TF_182_sorted.bam\n",
      "/data/gpfs/assoc/denovo/tfaske/rabbruh/SNPcall/bwa/EN_TF_183_sorted.bam\n",
      "24.917921691483755 EN_TF_183_sorted.bam\n",
      "/data/gpfs/assoc/denovo/tfaske/rabbruh/SNPcall/bwa/EN_TF_184_sorted.bam\n",
      "24.174979150591998 EN_TF_184_sorted.bam\n",
      "/data/gpfs/assoc/denovo/tfaske/rabbruh/SNPcall/bwa/EN_TF_185_sorted.bam\n",
      "25.11961175737669 EN_TF_185_sorted.bam\n",
      "/data/gpfs/assoc/denovo/tfaske/rabbruh/SNPcall/bwa/EN_TF_186_sorted.bam\n",
      "17.59414019622597 EN_TF_186_sorted.bam\n",
      "/data/gpfs/assoc/denovo/tfaske/rabbruh/SNPcall/bwa/EN_TF_187_sorted.bam\n",
      "18.976517708886735 EN_TF_187_sorted.bam\n",
      "/data/gpfs/assoc/denovo/tfaske/rabbruh/SNPcall/bwa/EN_TF_188_sorted.bam\n",
      "11.350859773237119 EN_TF_188_sorted.bam\n",
      "/data/gpfs/assoc/denovo/tfaske/rabbruh/SNPcall/bwa/EN_TF_189_sorted.bam\n",
      "8.368435673165639 EN_TF_189_sorted.bam\n",
      "/data/gpfs/assoc/denovo/tfaske/rabbruh/SNPcall/bwa/EN_TF_18_sorted.bam\n",
      "23.291435047227633 EN_TF_18_sorted.bam\n",
      "/data/gpfs/assoc/denovo/tfaske/rabbruh/SNPcall/bwa/EN_TF_190_sorted.bam\n",
      "28.897571588771555 EN_TF_190_sorted.bam\n",
      "/data/gpfs/assoc/denovo/tfaske/rabbruh/SNPcall/bwa/EN_TF_191_sorted.bam\n",
      "15.3080786995401 EN_TF_191_sorted.bam\n",
      "/data/gpfs/assoc/denovo/tfaske/rabbruh/SNPcall/bwa/EN_TF_192_sorted.bam\n",
      "20.589668826554284 EN_TF_192_sorted.bam\n",
      "/data/gpfs/assoc/denovo/tfaske/rabbruh/SNPcall/bwa/EN_TF_193_sorted.bam\n",
      "33.38129425019725 EN_TF_193_sorted.bam\n",
      "/data/gpfs/assoc/denovo/tfaske/rabbruh/SNPcall/bwa/EN_TF_194_sorted.bam\n",
      "19.57983479587146 EN_TF_194_sorted.bam\n",
      "/data/gpfs/assoc/denovo/tfaske/rabbruh/SNPcall/bwa/EN_TF_195_sorted.bam\n",
      "11.89886913719926 EN_TF_195_sorted.bam\n",
      "/data/gpfs/assoc/denovo/tfaske/rabbruh/SNPcall/bwa/EN_TF_196_sorted.bam\n",
      "31.755275612133893 EN_TF_196_sorted.bam\n",
      "/data/gpfs/assoc/denovo/tfaske/rabbruh/SNPcall/bwa/EN_TF_197_sorted.bam\n",
      "15.649758961379467 EN_TF_197_sorted.bam\n",
      "/data/gpfs/assoc/denovo/tfaske/rabbruh/SNPcall/bwa/EN_TF_198_sorted.bam\n",
      "9.08381237113289 EN_TF_198_sorted.bam\n",
      "/data/gpfs/assoc/denovo/tfaske/rabbruh/SNPcall/bwa/EN_TF_199_sorted.bam\n",
      "28.69456983360137 EN_TF_199_sorted.bam\n",
      "/data/gpfs/assoc/denovo/tfaske/rabbruh/SNPcall/bwa/EN_TF_19_sorted.bam\n",
      "27.000411710128553 EN_TF_19_sorted.bam\n",
      "/data/gpfs/assoc/denovo/tfaske/rabbruh/SNPcall/bwa/EN_TF_1_sorted.bam\n",
      "21.192730034225296 EN_TF_1_sorted.bam\n",
      "/data/gpfs/assoc/denovo/tfaske/rabbruh/SNPcall/bwa/EN_TF_200_sorted.bam\n",
      "17.086253915443542 EN_TF_200_sorted.bam\n",
      "/data/gpfs/assoc/denovo/tfaske/rabbruh/SNPcall/bwa/EN_TF_201_sorted.bam\n",
      "21.501567069080604 EN_TF_201_sorted.bam\n",
      "/data/gpfs/assoc/denovo/tfaske/rabbruh/SNPcall/bwa/EN_TF_202_sorted.bam\n",
      "18.923783600288417 EN_TF_202_sorted.bam\n",
      "/data/gpfs/assoc/denovo/tfaske/rabbruh/SNPcall/bwa/EN_TF_203_sorted.bam\n",
      "14.095286641799534 EN_TF_203_sorted.bam\n",
      "/data/gpfs/assoc/denovo/tfaske/rabbruh/SNPcall/bwa/EN_TF_204_sorted.bam\n",
      "12.472480094649487 EN_TF_204_sorted.bam\n",
      "/data/gpfs/assoc/denovo/tfaske/rabbruh/SNPcall/bwa/EN_TF_205_sorted.bam\n",
      "20.8276256268399 EN_TF_205_sorted.bam\n",
      "/data/gpfs/assoc/denovo/tfaske/rabbruh/SNPcall/bwa/EN_TF_206_sorted.bam\n",
      "11.262116820630464 EN_TF_206_sorted.bam\n",
      "/data/gpfs/assoc/denovo/tfaske/rabbruh/SNPcall/bwa/EN_TF_207_sorted.bam\n",
      "28.77093449634314 EN_TF_207_sorted.bam\n",
      "/data/gpfs/assoc/denovo/tfaske/rabbruh/SNPcall/bwa/EN_TF_208_sorted.bam\n",
      "21.707850992715564 EN_TF_208_sorted.bam\n",
      "/data/gpfs/assoc/denovo/tfaske/rabbruh/SNPcall/bwa/EN_TF_209_sorted.bam\n",
      "16.003980534105057 EN_TF_209_sorted.bam\n",
      "/data/gpfs/assoc/denovo/tfaske/rabbruh/SNPcall/bwa/EN_TF_20_sorted.bam\n",
      "30.898098418132147 EN_TF_20_sorted.bam\n",
      "/data/gpfs/assoc/denovo/tfaske/rabbruh/SNPcall/bwa/EN_TF_210_sorted.bam\n",
      "10.318101640972676 EN_TF_210_sorted.bam\n",
      "/data/gpfs/assoc/denovo/tfaske/rabbruh/SNPcall/bwa/EN_TF_211_sorted.bam\n",
      "18.978913081661027 EN_TF_211_sorted.bam\n",
      "/data/gpfs/assoc/denovo/tfaske/rabbruh/SNPcall/bwa/EN_TF_212_sorted.bam\n",
      "17.472970713699567 EN_TF_212_sorted.bam\n",
      "/data/gpfs/assoc/denovo/tfaske/rabbruh/SNPcall/bwa/EN_TF_213_sorted.bam\n",
      "31.32688060371341 EN_TF_213_sorted.bam\n",
      "/data/gpfs/assoc/denovo/tfaske/rabbruh/SNPcall/bwa/EN_TF_214_sorted.bam\n",
      "23.008206330962683 EN_TF_214_sorted.bam\n",
      "/data/gpfs/assoc/denovo/tfaske/rabbruh/SNPcall/bwa/EN_TF_215_sorted.bam\n",
      "28.366822895974025 EN_TF_215_sorted.bam\n",
      "/data/gpfs/assoc/denovo/tfaske/rabbruh/SNPcall/bwa/EN_TF_216_sorted.bam\n",
      "22.35630743218032 EN_TF_216_sorted.bam\n",
      "/data/gpfs/assoc/denovo/tfaske/rabbruh/SNPcall/bwa/EN_TF_217_sorted.bam\n",
      "17.02646876766446 EN_TF_217_sorted.bam\n",
      "/data/gpfs/assoc/denovo/tfaske/rabbruh/SNPcall/bwa/EN_TF_218_sorted.bam\n",
      "24.136238488684064 EN_TF_218_sorted.bam\n",
      "/data/gpfs/assoc/denovo/tfaske/rabbruh/SNPcall/bwa/EN_TF_219_sorted.bam\n",
      "20.371078578853115 EN_TF_219_sorted.bam\n",
      "/data/gpfs/assoc/denovo/tfaske/rabbruh/SNPcall/bwa/EN_TF_21_sorted.bam\n",
      "29.05709075385043 EN_TF_21_sorted.bam\n",
      "/data/gpfs/assoc/denovo/tfaske/rabbruh/SNPcall/bwa/EN_TF_220_sorted.bam\n",
      "5.435319309081849 EN_TF_220_sorted.bam\n",
      "/data/gpfs/assoc/denovo/tfaske/rabbruh/SNPcall/bwa/EN_TF_221_sorted.bam\n",
      "16.713571820250994 EN_TF_221_sorted.bam\n",
      "/data/gpfs/assoc/denovo/tfaske/rabbruh/SNPcall/bwa/EN_TF_222_sorted.bam\n",
      "10.58239730457717 EN_TF_222_sorted.bam\n",
      "/data/gpfs/assoc/denovo/tfaske/rabbruh/SNPcall/bwa/EN_TF_223_sorted.bam\n",
      "18.467499041992898 EN_TF_223_sorted.bam\n",
      "/data/gpfs/assoc/denovo/tfaske/rabbruh/SNPcall/bwa/EN_TF_224_sorted.bam\n",
      "18.244620405806938 EN_TF_224_sorted.bam\n",
      "/data/gpfs/assoc/denovo/tfaske/rabbruh/SNPcall/bwa/EN_TF_225_sorted.bam\n",
      "32.158015245177445 EN_TF_225_sorted.bam\n",
      "/data/gpfs/assoc/denovo/tfaske/rabbruh/SNPcall/bwa/EN_TF_226_sorted.bam\n",
      "13.161716259014732 EN_TF_226_sorted.bam\n",
      "/data/gpfs/assoc/denovo/tfaske/rabbruh/SNPcall/bwa/EN_TF_227_sorted.bam\n",
      "16.831192740803587 EN_TF_227_sorted.bam\n",
      "/data/gpfs/assoc/denovo/tfaske/rabbruh/SNPcall/bwa/EN_TF_228_sorted.bam\n",
      "27.353956086153545 EN_TF_228_sorted.bam\n",
      "/data/gpfs/assoc/denovo/tfaske/rabbruh/SNPcall/bwa/EN_TF_229_sorted.bam\n",
      "20.007436486709487 EN_TF_229_sorted.bam\n",
      "/data/gpfs/assoc/denovo/tfaske/rabbruh/SNPcall/bwa/EN_TF_22_sorted.bam\n",
      "23.530488591135697 EN_TF_22_sorted.bam\n",
      "/data/gpfs/assoc/denovo/tfaske/rabbruh/SNPcall/bwa/EN_TF_230_sorted.bam\n",
      "12.563239070887313 EN_TF_230_sorted.bam\n",
      "/data/gpfs/assoc/denovo/tfaske/rabbruh/SNPcall/bwa/EN_TF_231_sorted.bam\n",
      "26.94123804952558 EN_TF_231_sorted.bam\n",
      "/data/gpfs/assoc/denovo/tfaske/rabbruh/SNPcall/bwa/EN_TF_232_sorted.bam\n",
      "14.958343151438305 EN_TF_232_sorted.bam\n",
      "/data/gpfs/assoc/denovo/tfaske/rabbruh/SNPcall/bwa/EN_TF_233_sorted.bam\n"
     ]
    },
    {
     "name": "stdout",
     "output_type": "stream",
     "text": [
      "24.973750969115635 EN_TF_233_sorted.bam\n",
      "/data/gpfs/assoc/denovo/tfaske/rabbruh/SNPcall/bwa/EN_TF_234_sorted.bam\n",
      "11.615116132224843 EN_TF_234_sorted.bam\n",
      "/data/gpfs/assoc/denovo/tfaske/rabbruh/SNPcall/bwa/EN_TF_235_sorted.bam\n",
      "14.796215084570798 EN_TF_235_sorted.bam\n",
      "/data/gpfs/assoc/denovo/tfaske/rabbruh/SNPcall/bwa/EN_TF_236_sorted.bam\n",
      "15.251884748350866 EN_TF_236_sorted.bam\n",
      "/data/gpfs/assoc/denovo/tfaske/rabbruh/SNPcall/bwa/EN_TF_237_sorted.bam\n",
      "18.569643356355645 EN_TF_237_sorted.bam\n",
      "/data/gpfs/assoc/denovo/tfaske/rabbruh/SNPcall/bwa/EN_TF_238_sorted.bam\n",
      "17.438230097072662 EN_TF_238_sorted.bam\n",
      "/data/gpfs/assoc/denovo/tfaske/rabbruh/SNPcall/bwa/EN_TF_239_sorted.bam\n",
      "22.934094821870485 EN_TF_239_sorted.bam\n",
      "/data/gpfs/assoc/denovo/tfaske/rabbruh/SNPcall/bwa/EN_TF_23_sorted.bam\n",
      "25.214624551270628 EN_TF_23_sorted.bam\n",
      "/data/gpfs/assoc/denovo/tfaske/rabbruh/SNPcall/bwa/EN_TF_240_sorted.bam\n",
      "11.63036810078065 EN_TF_240_sorted.bam\n",
      "/data/gpfs/assoc/denovo/tfaske/rabbruh/SNPcall/bwa/EN_TF_241_sorted.bam\n",
      "10.75804821897296 EN_TF_241_sorted.bam\n",
      "/data/gpfs/assoc/denovo/tfaske/rabbruh/SNPcall/bwa/EN_TF_242_sorted.bam\n",
      "16.644258757351523 EN_TF_242_sorted.bam\n",
      "/data/gpfs/assoc/denovo/tfaske/rabbruh/SNPcall/bwa/EN_TF_243_sorted.bam\n",
      "16.824174826803482 EN_TF_243_sorted.bam\n",
      "/data/gpfs/assoc/denovo/tfaske/rabbruh/SNPcall/bwa/EN_TF_244_sorted.bam\n",
      "17.667523594583287 EN_TF_244_sorted.bam\n",
      "/data/gpfs/assoc/denovo/tfaske/rabbruh/SNPcall/bwa/EN_TF_245_sorted.bam\n",
      "15.16448983139863 EN_TF_245_sorted.bam\n",
      "/data/gpfs/assoc/denovo/tfaske/rabbruh/SNPcall/bwa/EN_TF_246_sorted.bam\n",
      "27.34656915380173 EN_TF_246_sorted.bam\n",
      "/data/gpfs/assoc/denovo/tfaske/rabbruh/SNPcall/bwa/EN_TF_247_sorted.bam\n",
      "21.648229240409833 EN_TF_247_sorted.bam\n",
      "/data/gpfs/assoc/denovo/tfaske/rabbruh/SNPcall/bwa/EN_TF_248_sorted.bam\n",
      "13.265707905720172 EN_TF_248_sorted.bam\n",
      "/data/gpfs/assoc/denovo/tfaske/rabbruh/SNPcall/bwa/EN_TF_249_sorted.bam\n",
      "31.518392786397282 EN_TF_249_sorted.bam\n",
      "/data/gpfs/assoc/denovo/tfaske/rabbruh/SNPcall/bwa/EN_TF_24_sorted.bam\n",
      "16.055806137146558 EN_TF_24_sorted.bam\n",
      "/data/gpfs/assoc/denovo/tfaske/rabbruh/SNPcall/bwa/EN_TF_250_sorted.bam\n",
      "24.891354393242022 EN_TF_250_sorted.bam\n",
      "/data/gpfs/assoc/denovo/tfaske/rabbruh/SNPcall/bwa/EN_TF_251_sorted.bam\n",
      "24.966362725211155 EN_TF_251_sorted.bam\n",
      "/data/gpfs/assoc/denovo/tfaske/rabbruh/SNPcall/bwa/EN_TF_252_sorted.bam\n",
      "17.689871061496117 EN_TF_252_sorted.bam\n",
      "/data/gpfs/assoc/denovo/tfaske/rabbruh/SNPcall/bwa/EN_TF_253_sorted.bam\n",
      "15.142571134635714 EN_TF_253_sorted.bam\n",
      "/data/gpfs/assoc/denovo/tfaske/rabbruh/SNPcall/bwa/EN_TF_254_sorted.bam\n",
      "16.103582252098654 EN_TF_254_sorted.bam\n",
      "/data/gpfs/assoc/denovo/tfaske/rabbruh/SNPcall/bwa/EN_TF_255_sorted.bam\n",
      "10.551573136303132 EN_TF_255_sorted.bam\n",
      "/data/gpfs/assoc/denovo/tfaske/rabbruh/SNPcall/bwa/EN_TF_256_sorted.bam\n",
      "19.41505706879612 EN_TF_256_sorted.bam\n",
      "/data/gpfs/assoc/denovo/tfaske/rabbruh/SNPcall/bwa/EN_TF_257_sorted.bam\n",
      "25.16890410842334 EN_TF_257_sorted.bam\n",
      "/data/gpfs/assoc/denovo/tfaske/rabbruh/SNPcall/bwa/EN_TF_258_sorted.bam\n",
      "17.433781731496115 EN_TF_258_sorted.bam\n",
      "/data/gpfs/assoc/denovo/tfaske/rabbruh/SNPcall/bwa/EN_TF_259_sorted.bam\n",
      "17.403559139094973 EN_TF_259_sorted.bam\n",
      "/data/gpfs/assoc/denovo/tfaske/rabbruh/SNPcall/bwa/EN_TF_25_sorted.bam\n",
      "20.838219164789255 EN_TF_25_sorted.bam\n",
      "/data/gpfs/assoc/denovo/tfaske/rabbruh/SNPcall/bwa/EN_TF_260_sorted.bam\n",
      "36.24305468715254 EN_TF_260_sorted.bam\n",
      "/data/gpfs/assoc/denovo/tfaske/rabbruh/SNPcall/bwa/EN_TF_261_sorted.bam\n",
      "13.900391730576922 EN_TF_261_sorted.bam\n",
      "/data/gpfs/assoc/denovo/tfaske/rabbruh/SNPcall/bwa/EN_TF_262_sorted.bam\n",
      "27.688690353084755 EN_TF_262_sorted.bam\n",
      "/data/gpfs/assoc/denovo/tfaske/rabbruh/SNPcall/bwa/EN_TF_263_sorted.bam\n",
      "18.394655804248142 EN_TF_263_sorted.bam\n",
      "/data/gpfs/assoc/denovo/tfaske/rabbruh/SNPcall/bwa/EN_TF_264_sorted.bam\n",
      "11.794096268833593 EN_TF_264_sorted.bam\n",
      "/data/gpfs/assoc/denovo/tfaske/rabbruh/SNPcall/bwa/EN_TF_265_sorted.bam\n",
      "11.214575650593355 EN_TF_265_sorted.bam\n",
      "/data/gpfs/assoc/denovo/tfaske/rabbruh/SNPcall/bwa/EN_TF_266_sorted.bam\n",
      "23.867822212733717 EN_TF_266_sorted.bam\n",
      "/data/gpfs/assoc/denovo/tfaske/rabbruh/SNPcall/bwa/EN_TF_267_sorted.bam\n",
      "11.780575693167334 EN_TF_267_sorted.bam\n",
      "/data/gpfs/assoc/denovo/tfaske/rabbruh/SNPcall/bwa/EN_TF_268_sorted.bam\n",
      "9.925866899500098 EN_TF_268_sorted.bam\n",
      "/data/gpfs/assoc/denovo/tfaske/rabbruh/SNPcall/bwa/EN_TF_269_sorted.bam\n",
      "24.02989322051243 EN_TF_269_sorted.bam\n",
      "/data/gpfs/assoc/denovo/tfaske/rabbruh/SNPcall/bwa/EN_TF_26_sorted.bam\n",
      "27.849275702055962 EN_TF_26_sorted.bam\n",
      "/data/gpfs/assoc/denovo/tfaske/rabbruh/SNPcall/bwa/EN_TF_270_sorted.bam\n",
      "15.185561059377777 EN_TF_270_sorted.bam\n",
      "/data/gpfs/assoc/denovo/tfaske/rabbruh/SNPcall/bwa/EN_TF_271_sorted.bam\n",
      "22.319516452141908 EN_TF_271_sorted.bam\n",
      "/data/gpfs/assoc/denovo/tfaske/rabbruh/SNPcall/bwa/EN_TF_272_sorted.bam\n",
      "29.478953660062746 EN_TF_272_sorted.bam\n",
      "/data/gpfs/assoc/denovo/tfaske/rabbruh/SNPcall/bwa/EN_TF_273_sorted.bam\n",
      "12.031876732973974 EN_TF_273_sorted.bam\n",
      "/data/gpfs/assoc/denovo/tfaske/rabbruh/SNPcall/bwa/EN_TF_274_sorted.bam\n",
      "23.020819435098787 EN_TF_274_sorted.bam\n",
      "/data/gpfs/assoc/denovo/tfaske/rabbruh/SNPcall/bwa/EN_TF_275_sorted.bam\n",
      "23.314284039669776 EN_TF_275_sorted.bam\n",
      "/data/gpfs/assoc/denovo/tfaske/rabbruh/SNPcall/bwa/EN_TF_276_sorted.bam\n",
      "15.601032925370722 EN_TF_276_sorted.bam\n",
      "/data/gpfs/assoc/denovo/tfaske/rabbruh/SNPcall/bwa/EN_TF_277_sorted.bam\n",
      "1.5249796868957666 EN_TF_277_sorted.bam\n",
      "/data/gpfs/assoc/denovo/tfaske/rabbruh/SNPcall/bwa/EN_TF_278_sorted.bam\n",
      "15.968711037522823 EN_TF_278_sorted.bam\n",
      "/data/gpfs/assoc/denovo/tfaske/rabbruh/SNPcall/bwa/EN_TF_279_sorted.bam\n",
      "10.566972486464747 EN_TF_279_sorted.bam\n",
      "/data/gpfs/assoc/denovo/tfaske/rabbruh/SNPcall/bwa/EN_TF_27_sorted.bam\n",
      "25.23813975444073 EN_TF_27_sorted.bam\n",
      "/data/gpfs/assoc/denovo/tfaske/rabbruh/SNPcall/bwa/EN_TF_280_sorted.bam\n",
      "19.97269605228484 EN_TF_280_sorted.bam\n",
      "/data/gpfs/assoc/denovo/tfaske/rabbruh/SNPcall/bwa/EN_TF_281_sorted.bam\n",
      "14.967278578166544 EN_TF_281_sorted.bam\n",
      "/data/gpfs/assoc/denovo/tfaske/rabbruh/SNPcall/bwa/EN_TF_282_sorted.bam\n",
      "12.627557442488213 EN_TF_282_sorted.bam\n",
      "/data/gpfs/assoc/denovo/tfaske/rabbruh/SNPcall/bwa/EN_TF_283_sorted.bam\n",
      "20.381262696600217 EN_TF_283_sorted.bam\n",
      "/data/gpfs/assoc/denovo/tfaske/rabbruh/SNPcall/bwa/EN_TF_284_sorted.bam\n",
      "15.406019700979655 EN_TF_284_sorted.bam\n",
      "/data/gpfs/assoc/denovo/tfaske/rabbruh/SNPcall/bwa/EN_TF_285_sorted.bam\n",
      "17.66575632030293 EN_TF_285_sorted.bam\n",
      "/data/gpfs/assoc/denovo/tfaske/rabbruh/SNPcall/bwa/EN_TF_286_sorted.bam\n",
      "21.637098745459966 EN_TF_286_sorted.bam\n",
      "/data/gpfs/assoc/denovo/tfaske/rabbruh/SNPcall/bwa/EN_TF_287_sorted.bam\n",
      "19.249261429286612 EN_TF_287_sorted.bam\n",
      "/data/gpfs/assoc/denovo/tfaske/rabbruh/SNPcall/bwa/EN_TF_288_sorted.bam\n",
      "18.242639524476118 EN_TF_288_sorted.bam\n",
      "/data/gpfs/assoc/denovo/tfaske/rabbruh/SNPcall/bwa/EN_TF_289_sorted.bam\n",
      "25.85542609744361 EN_TF_289_sorted.bam\n",
      "/data/gpfs/assoc/denovo/tfaske/rabbruh/SNPcall/bwa/EN_TF_28_sorted.bam\n",
      "32.07870525672804 EN_TF_28_sorted.bam\n",
      "/data/gpfs/assoc/denovo/tfaske/rabbruh/SNPcall/bwa/EN_TF_290_sorted.bam\n",
      "26.06784577804898 EN_TF_290_sorted.bam\n",
      "/data/gpfs/assoc/denovo/tfaske/rabbruh/SNPcall/bwa/EN_TF_291_sorted.bam\n",
      "28.29293326138188 EN_TF_291_sorted.bam\n",
      "/data/gpfs/assoc/denovo/tfaske/rabbruh/SNPcall/bwa/EN_TF_292_sorted.bam\n",
      "25.433245919559322 EN_TF_292_sorted.bam\n",
      "/data/gpfs/assoc/denovo/tfaske/rabbruh/SNPcall/bwa/EN_TF_293_sorted.bam\n",
      "31.009433294837848 EN_TF_293_sorted.bam\n",
      "/data/gpfs/assoc/denovo/tfaske/rabbruh/SNPcall/bwa/EN_TF_294_sorted.bam\n",
      "9.474866560014561 EN_TF_294_sorted.bam\n",
      "/data/gpfs/assoc/denovo/tfaske/rabbruh/SNPcall/bwa/EN_TF_295_sorted.bam\n",
      "1.8180614992004296 EN_TF_295_sorted.bam\n",
      "/data/gpfs/assoc/denovo/tfaske/rabbruh/SNPcall/bwa/EN_TF_296_sorted.bam\n",
      "1.4454091922301242 EN_TF_296_sorted.bam\n",
      "/data/gpfs/assoc/denovo/tfaske/rabbruh/SNPcall/bwa/EN_TF_297_sorted.bam\n",
      "2.557802958099474 EN_TF_297_sorted.bam\n",
      "/data/gpfs/assoc/denovo/tfaske/rabbruh/SNPcall/bwa/EN_TF_298_sorted.bam\n",
      "0.8910403675746636 EN_TF_298_sorted.bam\n",
      "/data/gpfs/assoc/denovo/tfaske/rabbruh/SNPcall/bwa/EN_TF_299_sorted.bam\n",
      "22.32835856998735 EN_TF_299_sorted.bam\n",
      "/data/gpfs/assoc/denovo/tfaske/rabbruh/SNPcall/bwa/EN_TF_29_sorted.bam\n",
      "23.9608704096168 EN_TF_29_sorted.bam\n",
      "/data/gpfs/assoc/denovo/tfaske/rabbruh/SNPcall/bwa/EN_TF_2_sorted.bam\n"
     ]
    },
    {
     "name": "stdout",
     "output_type": "stream",
     "text": [
      "25.843025910497623 EN_TF_2_sorted.bam\n",
      "/data/gpfs/assoc/denovo/tfaske/rabbruh/SNPcall/bwa/EN_TF_300_sorted.bam\n",
      "15.475116987236506 EN_TF_300_sorted.bam\n",
      "/data/gpfs/assoc/denovo/tfaske/rabbruh/SNPcall/bwa/EN_TF_301_sorted.bam\n",
      "20.85599988896845 EN_TF_301_sorted.bam\n",
      "/data/gpfs/assoc/denovo/tfaske/rabbruh/SNPcall/bwa/EN_TF_302_sorted.bam\n",
      "16.165386470532514 EN_TF_302_sorted.bam\n",
      "/data/gpfs/assoc/denovo/tfaske/rabbruh/SNPcall/bwa/EN_TF_303_sorted.bam\n",
      "2.6921723689448265 EN_TF_303_sorted.bam\n",
      "/data/gpfs/assoc/denovo/tfaske/rabbruh/SNPcall/bwa/EN_TF_304_sorted.bam\n",
      "11.26570846411494 EN_TF_304_sorted.bam\n",
      "/data/gpfs/assoc/denovo/tfaske/rabbruh/SNPcall/bwa/EN_TF_305_sorted.bam\n",
      "19.945383580125284 EN_TF_305_sorted.bam\n",
      "/data/gpfs/assoc/denovo/tfaske/rabbruh/SNPcall/bwa/EN_TF_306_sorted.bam\n",
      "22.083386777541197 EN_TF_306_sorted.bam\n",
      "/data/gpfs/assoc/denovo/tfaske/rabbruh/SNPcall/bwa/EN_TF_307_sorted.bam\n",
      "22.646912051941026 EN_TF_307_sorted.bam\n",
      "/data/gpfs/assoc/denovo/tfaske/rabbruh/SNPcall/bwa/EN_TF_308_sorted.bam\n",
      "5.08145324316328 EN_TF_308_sorted.bam\n",
      "/data/gpfs/assoc/denovo/tfaske/rabbruh/SNPcall/bwa/EN_TF_309_sorted.bam\n",
      "16.43612218409743 EN_TF_309_sorted.bam\n",
      "/data/gpfs/assoc/denovo/tfaske/rabbruh/SNPcall/bwa/EN_TF_30_sorted.bam\n",
      "30.469460688660416 EN_TF_30_sorted.bam\n",
      "/data/gpfs/assoc/denovo/tfaske/rabbruh/SNPcall/bwa/EN_TF_310_sorted.bam\n",
      "20.206474867908767 EN_TF_310_sorted.bam\n",
      "/data/gpfs/assoc/denovo/tfaske/rabbruh/SNPcall/bwa/EN_TF_311_sorted.bam\n",
      "3.2665538830609657 EN_TF_311_sorted.bam\n",
      "/data/gpfs/assoc/denovo/tfaske/rabbruh/SNPcall/bwa/EN_TF_312_sorted.bam\n",
      "22.81876845695855 EN_TF_312_sorted.bam\n",
      "/data/gpfs/assoc/denovo/tfaske/rabbruh/SNPcall/bwa/EN_TF_313_sorted.bam\n",
      "5.367077536954407 EN_TF_313_sorted.bam\n",
      "/data/gpfs/assoc/denovo/tfaske/rabbruh/SNPcall/bwa/EN_TF_314_sorted.bam\n",
      "3.962803616752739 EN_TF_314_sorted.bam\n",
      "/data/gpfs/assoc/denovo/tfaske/rabbruh/SNPcall/bwa/EN_TF_315_sorted.bam\n",
      "11.411060420184553 EN_TF_315_sorted.bam\n",
      "/data/gpfs/assoc/denovo/tfaske/rabbruh/SNPcall/bwa/EN_TF_316_sorted.bam\n",
      "8.473472053876758 EN_TF_316_sorted.bam\n",
      "/data/gpfs/assoc/denovo/tfaske/rabbruh/SNPcall/bwa/EN_TF_317_sorted.bam\n",
      "14.949693613213991 EN_TF_317_sorted.bam\n",
      "/data/gpfs/assoc/denovo/tfaske/rabbruh/SNPcall/bwa/EN_TF_318_sorted.bam\n",
      "15.274136617222599 EN_TF_318_sorted.bam\n",
      "/data/gpfs/assoc/denovo/tfaske/rabbruh/SNPcall/bwa/EN_TF_319_sorted.bam\n",
      "23.897674593835067 EN_TF_319_sorted.bam\n",
      "/data/gpfs/assoc/denovo/tfaske/rabbruh/SNPcall/bwa/EN_TF_31_sorted.bam\n",
      "30.22081146641957 EN_TF_31_sorted.bam\n",
      "/data/gpfs/assoc/denovo/tfaske/rabbruh/SNPcall/bwa/EN_TF_320_sorted.bam\n",
      "16.064860566969053 EN_TF_320_sorted.bam\n",
      "/data/gpfs/assoc/denovo/tfaske/rabbruh/SNPcall/bwa/EN_TF_321_sorted.bam\n",
      "5.601659081329752 EN_TF_321_sorted.bam\n",
      "/data/gpfs/assoc/denovo/tfaske/rabbruh/SNPcall/bwa/EN_TF_322_sorted.bam\n",
      "13.532917712999858 EN_TF_322_sorted.bam\n",
      "/data/gpfs/assoc/denovo/tfaske/rabbruh/SNPcall/bwa/EN_TF_323_sorted.bam\n",
      "1.9528461705756441 EN_TF_323_sorted.bam\n",
      "/data/gpfs/assoc/denovo/tfaske/rabbruh/SNPcall/bwa/EN_TF_324_sorted.bam\n",
      "15.496279986758736 EN_TF_324_sorted.bam\n",
      "/data/gpfs/assoc/denovo/tfaske/rabbruh/SNPcall/bwa/EN_TF_325_sorted.bam\n",
      "6.17874480798954 EN_TF_325_sorted.bam\n",
      "/data/gpfs/assoc/denovo/tfaske/rabbruh/SNPcall/bwa/EN_TF_326_sorted.bam\n",
      "2.8633410436578943 EN_TF_326_sorted.bam\n",
      "/data/gpfs/assoc/denovo/tfaske/rabbruh/SNPcall/bwa/EN_TF_327_sorted.bam\n",
      "10.17841247804414 EN_TF_327_sorted.bam\n",
      "/data/gpfs/assoc/denovo/tfaske/rabbruh/SNPcall/bwa/EN_TF_328_sorted.bam\n",
      "5.397922597285486 EN_TF_328_sorted.bam\n",
      "/data/gpfs/assoc/denovo/tfaske/rabbruh/SNPcall/bwa/EN_TF_329_sorted.bam\n",
      "13.15241340244282 EN_TF_329_sorted.bam\n",
      "/data/gpfs/assoc/denovo/tfaske/rabbruh/SNPcall/bwa/EN_TF_32_sorted.bam\n",
      "26.537487031464824 EN_TF_32_sorted.bam\n",
      "/data/gpfs/assoc/denovo/tfaske/rabbruh/SNPcall/bwa/EN_TF_330_sorted.bam\n",
      "16.659018917609444 EN_TF_330_sorted.bam\n",
      "/data/gpfs/assoc/denovo/tfaske/rabbruh/SNPcall/bwa/EN_TF_331_sorted.bam\n",
      "3.819217252422209 EN_TF_331_sorted.bam\n",
      "/data/gpfs/assoc/denovo/tfaske/rabbruh/SNPcall/bwa/EN_TF_332_sorted.bam\n",
      "11.25570422841822 EN_TF_332_sorted.bam\n",
      "/data/gpfs/assoc/denovo/tfaske/rabbruh/SNPcall/bwa/EN_TF_333_sorted.bam\n",
      "20.255353292510225 EN_TF_333_sorted.bam\n",
      "/data/gpfs/assoc/denovo/tfaske/rabbruh/SNPcall/bwa/EN_TF_334_sorted.bam\n",
      "2.8639196215756186 EN_TF_334_sorted.bam\n",
      "/data/gpfs/assoc/denovo/tfaske/rabbruh/SNPcall/bwa/EN_TF_335_sorted.bam\n",
      "9.294710006373487 EN_TF_335_sorted.bam\n",
      "/data/gpfs/assoc/denovo/tfaske/rabbruh/SNPcall/bwa/EN_TF_336_sorted.bam\n",
      "18.185284432989988 EN_TF_336_sorted.bam\n",
      "/data/gpfs/assoc/denovo/tfaske/rabbruh/SNPcall/bwa/EN_TF_337_sorted.bam\n",
      "6.6574984718738826 EN_TF_337_sorted.bam\n",
      "/data/gpfs/assoc/denovo/tfaske/rabbruh/SNPcall/bwa/EN_TF_338_sorted.bam\n",
      "7.488181695132263 EN_TF_338_sorted.bam\n",
      "/data/gpfs/assoc/denovo/tfaske/rabbruh/SNPcall/bwa/EN_TF_339_sorted.bam\n",
      "7.109968225459552 EN_TF_339_sorted.bam\n",
      "/data/gpfs/assoc/denovo/tfaske/rabbruh/SNPcall/bwa/EN_TF_33_sorted.bam\n",
      "15.783366714073443 EN_TF_33_sorted.bam\n",
      "/data/gpfs/assoc/denovo/tfaske/rabbruh/SNPcall/bwa/EN_TF_340_sorted.bam\n",
      "7.5573580465809655 EN_TF_340_sorted.bam\n",
      "/data/gpfs/assoc/denovo/tfaske/rabbruh/SNPcall/bwa/EN_TF_341_sorted.bam\n",
      "32.65525591419921 EN_TF_341_sorted.bam\n",
      "/data/gpfs/assoc/denovo/tfaske/rabbruh/SNPcall/bwa/EN_TF_342_sorted.bam\n",
      "23.606967830316005 EN_TF_342_sorted.bam\n",
      "/data/gpfs/assoc/denovo/tfaske/rabbruh/SNPcall/bwa/EN_TF_343_sorted.bam\n",
      "4.250685760328583 EN_TF_343_sorted.bam\n",
      "/data/gpfs/assoc/denovo/tfaske/rabbruh/SNPcall/bwa/EN_TF_344_sorted.bam\n",
      "6.7783500435631225 EN_TF_344_sorted.bam\n",
      "/data/gpfs/assoc/denovo/tfaske/rabbruh/SNPcall/bwa/EN_TF_345_sorted.bam\n",
      "6.963613908178373 EN_TF_345_sorted.bam\n",
      "/data/gpfs/assoc/denovo/tfaske/rabbruh/SNPcall/bwa/EN_TF_346_sorted.bam\n",
      "5.666556956520137 EN_TF_346_sorted.bam\n",
      "/data/gpfs/assoc/denovo/tfaske/rabbruh/SNPcall/bwa/EN_TF_347_sorted.bam\n",
      "15.33026381355223 EN_TF_347_sorted.bam\n",
      "/data/gpfs/assoc/denovo/tfaske/rabbruh/SNPcall/bwa/EN_TF_348_sorted.bam\n",
      "13.83254499749765 EN_TF_348_sorted.bam\n",
      "/data/gpfs/assoc/denovo/tfaske/rabbruh/SNPcall/bwa/EN_TF_349_sorted.bam\n",
      "3.5436458538314266 EN_TF_349_sorted.bam\n",
      "/data/gpfs/assoc/denovo/tfaske/rabbruh/SNPcall/bwa/EN_TF_34_sorted.bam\n",
      "31.12206742127935 EN_TF_34_sorted.bam\n",
      "/data/gpfs/assoc/denovo/tfaske/rabbruh/SNPcall/bwa/EN_TF_350_sorted.bam\n",
      "5.245896656348872 EN_TF_350_sorted.bam\n",
      "/data/gpfs/assoc/denovo/tfaske/rabbruh/SNPcall/bwa/EN_TF_351_sorted.bam\n",
      "6.923918793510494 EN_TF_351_sorted.bam\n",
      "/data/gpfs/assoc/denovo/tfaske/rabbruh/SNPcall/bwa/EN_TF_352_sorted.bam\n",
      "19.85113964147986 EN_TF_352_sorted.bam\n",
      "/data/gpfs/assoc/denovo/tfaske/rabbruh/SNPcall/bwa/EN_TF_353_sorted.bam\n",
      "8.925347668327111 EN_TF_353_sorted.bam\n",
      "/data/gpfs/assoc/denovo/tfaske/rabbruh/SNPcall/bwa/EN_TF_354_sorted.bam\n",
      "9.659770785465371 EN_TF_354_sorted.bam\n",
      "/data/gpfs/assoc/denovo/tfaske/rabbruh/SNPcall/bwa/EN_TF_355_sorted.bam\n",
      "2.722928708084523 EN_TF_355_sorted.bam\n",
      "/data/gpfs/assoc/denovo/tfaske/rabbruh/SNPcall/bwa/EN_TF_356_sorted.bam\n",
      "13.736224001800416 EN_TF_356_sorted.bam\n",
      "/data/gpfs/assoc/denovo/tfaske/rabbruh/SNPcall/bwa/EN_TF_357_sorted.bam\n",
      "11.899108677614958 EN_TF_357_sorted.bam\n",
      "/data/gpfs/assoc/denovo/tfaske/rabbruh/SNPcall/bwa/EN_TF_358_sorted.bam\n",
      "7.782764840652857 EN_TF_358_sorted.bam\n",
      "/data/gpfs/assoc/denovo/tfaske/rabbruh/SNPcall/bwa/EN_TF_359_sorted.bam\n",
      "3.652510784800942 EN_TF_359_sorted.bam\n",
      "/data/gpfs/assoc/denovo/tfaske/rabbruh/SNPcall/bwa/EN_TF_35_sorted.bam\n",
      "32.48648190441223 EN_TF_35_sorted.bam\n",
      "/data/gpfs/assoc/denovo/tfaske/rabbruh/SNPcall/bwa/EN_TF_360_sorted.bam\n",
      "5.172481129266712 EN_TF_360_sorted.bam\n",
      "/data/gpfs/assoc/denovo/tfaske/rabbruh/SNPcall/bwa/EN_TF_361_sorted.bam\n",
      "6.368848444155816 EN_TF_361_sorted.bam\n",
      "/data/gpfs/assoc/denovo/tfaske/rabbruh/SNPcall/bwa/EN_TF_362_sorted.bam\n",
      "3.361045247654519 EN_TF_362_sorted.bam\n",
      "/data/gpfs/assoc/denovo/tfaske/rabbruh/SNPcall/bwa/EN_TF_363_sorted.bam\n",
      "18.17947220570739 EN_TF_363_sorted.bam\n",
      "/data/gpfs/assoc/denovo/tfaske/rabbruh/SNPcall/bwa/EN_TF_364_sorted.bam\n",
      "14.624516265678322 EN_TF_364_sorted.bam\n",
      "/data/gpfs/assoc/denovo/tfaske/rabbruh/SNPcall/bwa/EN_TF_365_sorted.bam\n",
      "1.5848376205228167 EN_TF_365_sorted.bam\n",
      "/data/gpfs/assoc/denovo/tfaske/rabbruh/SNPcall/bwa/EN_TF_366_sorted.bam\n",
      "9.230350140470266 EN_TF_366_sorted.bam\n",
      "/data/gpfs/assoc/denovo/tfaske/rabbruh/SNPcall/bwa/EN_TF_367_sorted.bam\n"
     ]
    },
    {
     "name": "stdout",
     "output_type": "stream",
     "text": [
      "24.917783541486667 EN_TF_367_sorted.bam\n",
      "/data/gpfs/assoc/denovo/tfaske/rabbruh/SNPcall/bwa/EN_TF_368_sorted.bam\n",
      "4.908527032233209 EN_TF_368_sorted.bam\n",
      "/data/gpfs/assoc/denovo/tfaske/rabbruh/SNPcall/bwa/EN_TF_369_sorted.bam\n",
      "11.19782511859028 EN_TF_369_sorted.bam\n",
      "/data/gpfs/assoc/denovo/tfaske/rabbruh/SNPcall/bwa/EN_TF_36_sorted.bam\n",
      "26.046097839524915 EN_TF_36_sorted.bam\n",
      "/data/gpfs/assoc/denovo/tfaske/rabbruh/SNPcall/bwa/EN_TF_370_sorted.bam\n",
      "26.306556494658334 EN_TF_370_sorted.bam\n",
      "/data/gpfs/assoc/denovo/tfaske/rabbruh/SNPcall/bwa/EN_TF_371_sorted.bam\n",
      "15.041851929427013 EN_TF_371_sorted.bam\n",
      "/data/gpfs/assoc/denovo/tfaske/rabbruh/SNPcall/bwa/EN_TF_372_sorted.bam\n",
      "18.92749246421696 EN_TF_372_sorted.bam\n",
      "/data/gpfs/assoc/denovo/tfaske/rabbruh/SNPcall/bwa/EN_TF_373_sorted.bam\n",
      "20.222060540949794 EN_TF_373_sorted.bam\n",
      "/data/gpfs/assoc/denovo/tfaske/rabbruh/SNPcall/bwa/EN_TF_374_sorted.bam\n",
      "24.209720631542414 EN_TF_374_sorted.bam\n",
      "/data/gpfs/assoc/denovo/tfaske/rabbruh/SNPcall/bwa/EN_TF_375_sorted.bam\n",
      "3.944928727644988 EN_TF_375_sorted.bam\n",
      "/data/gpfs/assoc/denovo/tfaske/rabbruh/SNPcall/bwa/EN_TF_376_sorted.bam\n",
      "14.347565582580879 EN_TF_376_sorted.bam\n",
      "/data/gpfs/assoc/denovo/tfaske/rabbruh/SNPcall/bwa/EN_TF_377_sorted.bam\n",
      "16.350432552388632 EN_TF_377_sorted.bam\n",
      "/data/gpfs/assoc/denovo/tfaske/rabbruh/SNPcall/bwa/EN_TF_378_sorted.bam\n",
      "14.107837219209635 EN_TF_378_sorted.bam\n",
      "/data/gpfs/assoc/denovo/tfaske/rabbruh/SNPcall/bwa/EN_TF_379_sorted.bam\n",
      "22.65294436064812 EN_TF_379_sorted.bam\n",
      "/data/gpfs/assoc/denovo/tfaske/rabbruh/SNPcall/bwa/EN_TF_37_sorted.bam\n",
      "27.413001770933175 EN_TF_37_sorted.bam\n",
      "/data/gpfs/assoc/denovo/tfaske/rabbruh/SNPcall/bwa/EN_TF_380_sorted.bam\n",
      "21.13897942684445 EN_TF_380_sorted.bam\n",
      "/data/gpfs/assoc/denovo/tfaske/rabbruh/SNPcall/bwa/EN_TF_381_sorted.bam\n",
      "14.964642661188483 EN_TF_381_sorted.bam\n",
      "/data/gpfs/assoc/denovo/tfaske/rabbruh/SNPcall/bwa/EN_TF_382_sorted.bam\n",
      "5.948509154660375 EN_TF_382_sorted.bam\n",
      "/data/gpfs/assoc/denovo/tfaske/rabbruh/SNPcall/bwa/EN_TF_383_sorted.bam\n",
      "21.617794288814792 EN_TF_383_sorted.bam\n",
      "/data/gpfs/assoc/denovo/tfaske/rabbruh/SNPcall/bwa/EN_TF_384_sorted.bam\n",
      "20.276711873984524 EN_TF_384_sorted.bam\n",
      "/data/gpfs/assoc/denovo/tfaske/rabbruh/SNPcall/bwa/EN_TF_385_sorted.bam\n",
      "19.218553026666303 EN_TF_385_sorted.bam\n",
      "/data/gpfs/assoc/denovo/tfaske/rabbruh/SNPcall/bwa/EN_TF_386_sorted.bam\n",
      "7.16469761864293 EN_TF_386_sorted.bam\n",
      "/data/gpfs/assoc/denovo/tfaske/rabbruh/SNPcall/bwa/EN_TF_387_sorted.bam\n",
      "19.1585515481985 EN_TF_387_sorted.bam\n",
      "/data/gpfs/assoc/denovo/tfaske/rabbruh/SNPcall/bwa/EN_TF_388_sorted.bam\n",
      "12.354566715851226 EN_TF_388_sorted.bam\n",
      "/data/gpfs/assoc/denovo/tfaske/rabbruh/SNPcall/bwa/EN_TF_389_sorted.bam\n",
      "8.223537249594841 EN_TF_389_sorted.bam\n",
      "/data/gpfs/assoc/denovo/tfaske/rabbruh/SNPcall/bwa/EN_TF_38_sorted.bam\n",
      "13.882593925294941 EN_TF_38_sorted.bam\n",
      "/data/gpfs/assoc/denovo/tfaske/rabbruh/SNPcall/bwa/EN_TF_390_sorted.bam\n",
      "16.401418029491914 EN_TF_390_sorted.bam\n",
      "/data/gpfs/assoc/denovo/tfaske/rabbruh/SNPcall/bwa/EN_TF_391_sorted.bam\n",
      "13.46763187977936 EN_TF_391_sorted.bam\n",
      "/data/gpfs/assoc/denovo/tfaske/rabbruh/SNPcall/bwa/EN_TF_392_sorted.bam\n",
      "17.225708733641742 EN_TF_392_sorted.bam\n",
      "/data/gpfs/assoc/denovo/tfaske/rabbruh/SNPcall/bwa/EN_TF_393_sorted.bam\n",
      "17.717395359556914 EN_TF_393_sorted.bam\n",
      "/data/gpfs/assoc/denovo/tfaske/rabbruh/SNPcall/bwa/EN_TF_394_sorted.bam\n",
      "12.419842483282324 EN_TF_394_sorted.bam\n",
      "/data/gpfs/assoc/denovo/tfaske/rabbruh/SNPcall/bwa/EN_TF_395_sorted.bam\n",
      "19.720375571234257 EN_TF_395_sorted.bam\n",
      "/data/gpfs/assoc/denovo/tfaske/rabbruh/SNPcall/bwa/EN_TF_396_sorted.bam\n",
      "8.112567100002247 EN_TF_396_sorted.bam\n",
      "/data/gpfs/assoc/denovo/tfaske/rabbruh/SNPcall/bwa/EN_TF_397_sorted.bam\n",
      "15.793902770482392 EN_TF_397_sorted.bam\n",
      "/data/gpfs/assoc/denovo/tfaske/rabbruh/SNPcall/bwa/EN_TF_398_sorted.bam\n",
      "18.312048462556795 EN_TF_398_sorted.bam\n",
      "/data/gpfs/assoc/denovo/tfaske/rabbruh/SNPcall/bwa/EN_TF_399_sorted.bam\n",
      "5.6988409756995875 EN_TF_399_sorted.bam\n",
      "/data/gpfs/assoc/denovo/tfaske/rabbruh/SNPcall/bwa/EN_TF_39_sorted.bam\n",
      "22.389878252454444 EN_TF_39_sorted.bam\n",
      "/data/gpfs/assoc/denovo/tfaske/rabbruh/SNPcall/bwa/EN_TF_3_sorted.bam\n",
      "24.426522897329004 EN_TF_3_sorted.bam\n",
      "/data/gpfs/assoc/denovo/tfaske/rabbruh/SNPcall/bwa/EN_TF_400_sorted.bam\n",
      "1.9344058336645298 EN_TF_400_sorted.bam\n",
      "/data/gpfs/assoc/denovo/tfaske/rabbruh/SNPcall/bwa/EN_TF_40_sorted.bam\n",
      "17.698738099006032 EN_TF_40_sorted.bam\n",
      "/data/gpfs/assoc/denovo/tfaske/rabbruh/SNPcall/bwa/EN_TF_41_sorted.bam\n",
      "23.09947782642459 EN_TF_41_sorted.bam\n",
      "/data/gpfs/assoc/denovo/tfaske/rabbruh/SNPcall/bwa/EN_TF_42_sorted.bam\n",
      "28.2948898142702 EN_TF_42_sorted.bam\n",
      "/data/gpfs/assoc/denovo/tfaske/rabbruh/SNPcall/bwa/EN_TF_43_sorted.bam\n",
      "16.535699487105518 EN_TF_43_sorted.bam\n",
      "/data/gpfs/assoc/denovo/tfaske/rabbruh/SNPcall/bwa/EN_TF_44_sorted.bam\n",
      "12.933942890089341 EN_TF_44_sorted.bam\n",
      "/data/gpfs/assoc/denovo/tfaske/rabbruh/SNPcall/bwa/EN_TF_45_sorted.bam\n",
      "28.40943263332824 EN_TF_45_sorted.bam\n",
      "/data/gpfs/assoc/denovo/tfaske/rabbruh/SNPcall/bwa/EN_TF_46_sorted.bam\n",
      "31.3543241288447 EN_TF_46_sorted.bam\n",
      "/data/gpfs/assoc/denovo/tfaske/rabbruh/SNPcall/bwa/EN_TF_47_sorted.bam\n",
      "27.514483856745148 EN_TF_47_sorted.bam\n",
      "/data/gpfs/assoc/denovo/tfaske/rabbruh/SNPcall/bwa/EN_TF_48_sorted.bam\n",
      "25.511440407224836 EN_TF_48_sorted.bam\n",
      "/data/gpfs/assoc/denovo/tfaske/rabbruh/SNPcall/bwa/EN_TF_49_sorted.bam\n",
      "22.291656339537322 EN_TF_49_sorted.bam\n",
      "/data/gpfs/assoc/denovo/tfaske/rabbruh/SNPcall/bwa/EN_TF_4_sorted.bam\n",
      "29.810916405264535 EN_TF_4_sorted.bam\n",
      "/data/gpfs/assoc/denovo/tfaske/rabbruh/SNPcall/bwa/EN_TF_50_sorted.bam\n",
      "21.962199486789604 EN_TF_50_sorted.bam\n",
      "/data/gpfs/assoc/denovo/tfaske/rabbruh/SNPcall/bwa/EN_TF_51_sorted.bam\n",
      "10.014685143217418 EN_TF_51_sorted.bam\n",
      "/data/gpfs/assoc/denovo/tfaske/rabbruh/SNPcall/bwa/EN_TF_52_sorted.bam\n",
      "24.46667579821258 EN_TF_52_sorted.bam\n",
      "/data/gpfs/assoc/denovo/tfaske/rabbruh/SNPcall/bwa/EN_TF_53_sorted.bam\n",
      "21.92706532174195 EN_TF_53_sorted.bam\n",
      "/data/gpfs/assoc/denovo/tfaske/rabbruh/SNPcall/bwa/EN_TF_54_sorted.bam\n",
      "29.40117959668857 EN_TF_54_sorted.bam\n",
      "/data/gpfs/assoc/denovo/tfaske/rabbruh/SNPcall/bwa/EN_TF_55_sorted.bam\n",
      "28.425220235504167 EN_TF_55_sorted.bam\n",
      "/data/gpfs/assoc/denovo/tfaske/rabbruh/SNPcall/bwa/EN_TF_56_sorted.bam\n",
      "27.33365187938753 EN_TF_56_sorted.bam\n",
      "/data/gpfs/assoc/denovo/tfaske/rabbruh/SNPcall/bwa/EN_TF_57_sorted.bam\n",
      "15.344290480943584 EN_TF_57_sorted.bam\n",
      "/data/gpfs/assoc/denovo/tfaske/rabbruh/SNPcall/bwa/EN_TF_58_sorted.bam\n",
      "28.03844910680342 EN_TF_58_sorted.bam\n",
      "/data/gpfs/assoc/denovo/tfaske/rabbruh/SNPcall/bwa/EN_TF_59_sorted.bam\n",
      "26.835832182665435 EN_TF_59_sorted.bam\n",
      "/data/gpfs/assoc/denovo/tfaske/rabbruh/SNPcall/bwa/EN_TF_5_sorted.bam\n",
      "24.8852003442571 EN_TF_5_sorted.bam\n",
      "/data/gpfs/assoc/denovo/tfaske/rabbruh/SNPcall/bwa/EN_TF_60_sorted.bam\n",
      "25.768919259868476 EN_TF_60_sorted.bam\n",
      "/data/gpfs/assoc/denovo/tfaske/rabbruh/SNPcall/bwa/EN_TF_61_sorted.bam\n",
      "19.10662712698448 EN_TF_61_sorted.bam\n",
      "/data/gpfs/assoc/denovo/tfaske/rabbruh/SNPcall/bwa/EN_TF_62_sorted.bam\n",
      "19.100107293299324 EN_TF_62_sorted.bam\n",
      "/data/gpfs/assoc/denovo/tfaske/rabbruh/SNPcall/bwa/EN_TF_63_sorted.bam\n",
      "15.070576997314324 EN_TF_63_sorted.bam\n",
      "/data/gpfs/assoc/denovo/tfaske/rabbruh/SNPcall/bwa/EN_TF_64_sorted.bam\n",
      "24.952135638450013 EN_TF_64_sorted.bam\n",
      "/data/gpfs/assoc/denovo/tfaske/rabbruh/SNPcall/bwa/EN_TF_65_sorted.bam\n",
      "16.384524566575095 EN_TF_65_sorted.bam\n",
      "/data/gpfs/assoc/denovo/tfaske/rabbruh/SNPcall/bwa/EN_TF_66_sorted.bam\n",
      "19.08465943327035 EN_TF_66_sorted.bam\n",
      "/data/gpfs/assoc/denovo/tfaske/rabbruh/SNPcall/bwa/EN_TF_67_sorted.bam\n",
      "21.670577687176007 EN_TF_67_sorted.bam\n",
      "/data/gpfs/assoc/denovo/tfaske/rabbruh/SNPcall/bwa/EN_TF_68_sorted.bam\n",
      "22.913805132241613 EN_TF_68_sorted.bam\n",
      "/data/gpfs/assoc/denovo/tfaske/rabbruh/SNPcall/bwa/EN_TF_69_sorted.bam\n",
      "15.393666115270129 EN_TF_69_sorted.bam\n",
      "/data/gpfs/assoc/denovo/tfaske/rabbruh/SNPcall/bwa/EN_TF_6_sorted.bam\n",
      "19.9045069563434 EN_TF_6_sorted.bam\n",
      "/data/gpfs/assoc/denovo/tfaske/rabbruh/SNPcall/bwa/EN_TF_70_sorted.bam\n",
      "15.725696408949124 EN_TF_70_sorted.bam\n",
      "/data/gpfs/assoc/denovo/tfaske/rabbruh/SNPcall/bwa/EN_TF_71_sorted.bam\n",
      "17.917937180088163 EN_TF_71_sorted.bam\n",
      "/data/gpfs/assoc/denovo/tfaske/rabbruh/SNPcall/bwa/EN_TF_72_sorted.bam\n",
      "17.2766587411271 EN_TF_72_sorted.bam\n",
      "/data/gpfs/assoc/denovo/tfaske/rabbruh/SNPcall/bwa/EN_TF_73_sorted.bam\n"
     ]
    },
    {
     "name": "stdout",
     "output_type": "stream",
     "text": [
      "16.08266364975472 EN_TF_73_sorted.bam\n",
      "/data/gpfs/assoc/denovo/tfaske/rabbruh/SNPcall/bwa/EN_TF_74_sorted.bam\n",
      "14.867107430643905 EN_TF_74_sorted.bam\n",
      "/data/gpfs/assoc/denovo/tfaske/rabbruh/SNPcall/bwa/EN_TF_75_sorted.bam\n",
      "13.278035492471407 EN_TF_75_sorted.bam\n",
      "/data/gpfs/assoc/denovo/tfaske/rabbruh/SNPcall/bwa/EN_TF_76_sorted.bam\n",
      "19.889378537932355 EN_TF_76_sorted.bam\n",
      "/data/gpfs/assoc/denovo/tfaske/rabbruh/SNPcall/bwa/EN_TF_77_sorted.bam\n",
      "8.187934273132727 EN_TF_77_sorted.bam\n",
      "/data/gpfs/assoc/denovo/tfaske/rabbruh/SNPcall/bwa/EN_TF_78_sorted.bam\n",
      "13.179525732451241 EN_TF_78_sorted.bam\n",
      "/data/gpfs/assoc/denovo/tfaske/rabbruh/SNPcall/bwa/EN_TF_79_sorted.bam\n",
      "5.370658401990073 EN_TF_79_sorted.bam\n",
      "/data/gpfs/assoc/denovo/tfaske/rabbruh/SNPcall/bwa/EN_TF_7_sorted.bam\n",
      "9.633403982557084 EN_TF_7_sorted.bam\n",
      "/data/gpfs/assoc/denovo/tfaske/rabbruh/SNPcall/bwa/EN_TF_80_sorted.bam\n",
      "8.887666327350855 EN_TF_80_sorted.bam\n",
      "/data/gpfs/assoc/denovo/tfaske/rabbruh/SNPcall/bwa/EN_TF_81_sorted.bam\n",
      "8.483863917378935 EN_TF_81_sorted.bam\n",
      "/data/gpfs/assoc/denovo/tfaske/rabbruh/SNPcall/bwa/EN_TF_82_sorted.bam\n",
      "9.431303748313498 EN_TF_82_sorted.bam\n",
      "/data/gpfs/assoc/denovo/tfaske/rabbruh/SNPcall/bwa/EN_TF_83_sorted.bam\n",
      "10.472212460282996 EN_TF_83_sorted.bam\n",
      "/data/gpfs/assoc/denovo/tfaske/rabbruh/SNPcall/bwa/EN_TF_84_sorted.bam\n",
      "10.095889631503022 EN_TF_84_sorted.bam\n",
      "/data/gpfs/assoc/denovo/tfaske/rabbruh/SNPcall/bwa/EN_TF_85_sorted.bam\n",
      "5.949902618657938 EN_TF_85_sorted.bam\n",
      "/data/gpfs/assoc/denovo/tfaske/rabbruh/SNPcall/bwa/EN_TF_86_sorted.bam\n",
      "11.548018967794617 EN_TF_86_sorted.bam\n",
      "/data/gpfs/assoc/denovo/tfaske/rabbruh/SNPcall/bwa/EN_TF_87_sorted.bam\n",
      "8.624589741052985 EN_TF_87_sorted.bam\n",
      "/data/gpfs/assoc/denovo/tfaske/rabbruh/SNPcall/bwa/EN_TF_88_sorted.bam\n",
      "9.49276864937153 EN_TF_88_sorted.bam\n",
      "/data/gpfs/assoc/denovo/tfaske/rabbruh/SNPcall/bwa/EN_TF_89_sorted.bam\n",
      "11.026212466439217 EN_TF_89_sorted.bam\n",
      "/data/gpfs/assoc/denovo/tfaske/rabbruh/SNPcall/bwa/EN_TF_8_sorted.bam\n",
      "6.124450050928322 EN_TF_8_sorted.bam\n",
      "/data/gpfs/assoc/denovo/tfaske/rabbruh/SNPcall/bwa/EN_TF_90_sorted.bam\n",
      "4.65363282487516 EN_TF_90_sorted.bam\n",
      "/data/gpfs/assoc/denovo/tfaske/rabbruh/SNPcall/bwa/EN_TF_91_sorted.bam\n",
      "4.482820190128413 EN_TF_91_sorted.bam\n",
      "/data/gpfs/assoc/denovo/tfaske/rabbruh/SNPcall/bwa/EN_TF_92_sorted.bam\n",
      "5.370793311122643 EN_TF_92_sorted.bam\n",
      "/data/gpfs/assoc/denovo/tfaske/rabbruh/SNPcall/bwa/EN_TF_93_sorted.bam\n",
      "3.6329271422982896 EN_TF_93_sorted.bam\n",
      "/data/gpfs/assoc/denovo/tfaske/rabbruh/SNPcall/bwa/EN_TF_94_sorted.bam\n",
      "4.017724371127736 EN_TF_94_sorted.bam\n",
      "/data/gpfs/assoc/denovo/tfaske/rabbruh/SNPcall/bwa/EN_TF_95_sorted.bam\n",
      "4.054589633600669 EN_TF_95_sorted.bam\n",
      "/data/gpfs/assoc/denovo/tfaske/rabbruh/SNPcall/bwa/EN_TF_96_sorted.bam\n",
      "2.961404563027062 EN_TF_96_sorted.bam\n",
      "/data/gpfs/assoc/denovo/tfaske/rabbruh/SNPcall/bwa/EN_TF_97_sorted.bam\n",
      "4.286950429801211 EN_TF_97_sorted.bam\n",
      "/data/gpfs/assoc/denovo/tfaske/rabbruh/SNPcall/bwa/EN_TF_98_sorted.bam\n",
      "2.7870555776950146 EN_TF_98_sorted.bam\n",
      "/data/gpfs/assoc/denovo/tfaske/rabbruh/SNPcall/bwa/EN_TF_99_sorted.bam\n"
     ]
    },
    {
     "ename": "EmptyDataError",
     "evalue": "No columns to parse from file",
     "output_type": "error",
     "traceback": [
      "\u001b[0;31m---------------------------------------------------------------------------\u001b[0m",
      "\u001b[0;31mEmptyDataError\u001b[0m                            Traceback (most recent call last)",
      "\u001b[0;32m<ipython-input-30-7e49d21ad4c7>\u001b[0m in \u001b[0;36m<module>\u001b[0;34m\u001b[0m\n\u001b[1;32m      7\u001b[0m     \u001b[0;31m#print (b)\u001b[0m\u001b[0;34m\u001b[0m\u001b[0;34m\u001b[0m\u001b[0;34m\u001b[0m\u001b[0m\n\u001b[1;32m      8\u001b[0m     \u001b[0mget_ipython\u001b[0m\u001b[0;34m(\u001b[0m\u001b[0;34m)\u001b[0m\u001b[0;34m.\u001b[0m\u001b[0msystem\u001b[0m\u001b[0;34m(\u001b[0m\u001b[0;34m\"$samtools depth -a $b > $'cov.txt'\"\u001b[0m\u001b[0;34m)\u001b[0m\u001b[0;34m\u001b[0m\u001b[0;34m\u001b[0m\u001b[0m\n\u001b[0;32m----> 9\u001b[0;31m     \u001b[0mcov\u001b[0m \u001b[0;34m=\u001b[0m \u001b[0mpd\u001b[0m\u001b[0;34m.\u001b[0m\u001b[0mread_csv\u001b[0m\u001b[0;34m(\u001b[0m\u001b[0;34m'cov.txt'\u001b[0m\u001b[0;34m,\u001b[0m \u001b[0msep\u001b[0m\u001b[0;34m=\u001b[0m\u001b[0;34m\"\\t\"\u001b[0m\u001b[0;34m,\u001b[0m\u001b[0mheader\u001b[0m\u001b[0;34m=\u001b[0m\u001b[0;32mNone\u001b[0m\u001b[0;34m)\u001b[0m\u001b[0;34m\u001b[0m\u001b[0;34m\u001b[0m\u001b[0m\n\u001b[0m\u001b[1;32m     10\u001b[0m     \u001b[0mcoverage\u001b[0m \u001b[0;34m=\u001b[0m \u001b[0msum\u001b[0m\u001b[0;34m(\u001b[0m\u001b[0mcov\u001b[0m\u001b[0;34m.\u001b[0m\u001b[0miloc\u001b[0m\u001b[0;34m[\u001b[0m\u001b[0;34m:\u001b[0m\u001b[0;34m,\u001b[0m\u001b[0;36m2\u001b[0m\u001b[0;34m]\u001b[0m\u001b[0;34m)\u001b[0m\u001b[0;34m/\u001b[0m\u001b[0mlen\u001b[0m\u001b[0;34m(\u001b[0m\u001b[0mcov\u001b[0m\u001b[0;34m.\u001b[0m\u001b[0mindex\u001b[0m\u001b[0;34m)\u001b[0m\u001b[0;34m\u001b[0m\u001b[0;34m\u001b[0m\u001b[0m\n\u001b[1;32m     11\u001b[0m     \u001b[0mname\u001b[0m \u001b[0;34m=\u001b[0m \u001b[0mb\u001b[0m\u001b[0;34m.\u001b[0m\u001b[0msplit\u001b[0m\u001b[0;34m(\u001b[0m\u001b[0;34m'.F'\u001b[0m\u001b[0;34m)\u001b[0m\u001b[0;34m[\u001b[0m\u001b[0;36m0\u001b[0m\u001b[0;34m]\u001b[0m\u001b[0;34m\u001b[0m\u001b[0;34m\u001b[0m\u001b[0m\n",
      "\u001b[0;32m/data/gpfs/assoc/parchmanlab/tfaske/anaconda3/envs/py36/lib/python3.6/site-packages/pandas/io/parsers.py\u001b[0m in \u001b[0;36mparser_f\u001b[0;34m(filepath_or_buffer, sep, delimiter, header, names, index_col, usecols, squeeze, prefix, mangle_dupe_cols, dtype, engine, converters, true_values, false_values, skipinitialspace, skiprows, skipfooter, nrows, na_values, keep_default_na, na_filter, verbose, skip_blank_lines, parse_dates, infer_datetime_format, keep_date_col, date_parser, dayfirst, cache_dates, iterator, chunksize, compression, thousands, decimal, lineterminator, quotechar, quoting, doublequote, escapechar, comment, encoding, dialect, error_bad_lines, warn_bad_lines, delim_whitespace, low_memory, memory_map, float_precision)\u001b[0m\n\u001b[1;32m    683\u001b[0m         )\n\u001b[1;32m    684\u001b[0m \u001b[0;34m\u001b[0m\u001b[0m\n\u001b[0;32m--> 685\u001b[0;31m         \u001b[0;32mreturn\u001b[0m \u001b[0m_read\u001b[0m\u001b[0;34m(\u001b[0m\u001b[0mfilepath_or_buffer\u001b[0m\u001b[0;34m,\u001b[0m \u001b[0mkwds\u001b[0m\u001b[0;34m)\u001b[0m\u001b[0;34m\u001b[0m\u001b[0;34m\u001b[0m\u001b[0m\n\u001b[0m\u001b[1;32m    686\u001b[0m \u001b[0;34m\u001b[0m\u001b[0m\n\u001b[1;32m    687\u001b[0m     \u001b[0mparser_f\u001b[0m\u001b[0;34m.\u001b[0m\u001b[0m__name__\u001b[0m \u001b[0;34m=\u001b[0m \u001b[0mname\u001b[0m\u001b[0;34m\u001b[0m\u001b[0;34m\u001b[0m\u001b[0m\n",
      "\u001b[0;32m/data/gpfs/assoc/parchmanlab/tfaske/anaconda3/envs/py36/lib/python3.6/site-packages/pandas/io/parsers.py\u001b[0m in \u001b[0;36m_read\u001b[0;34m(filepath_or_buffer, kwds)\u001b[0m\n\u001b[1;32m    455\u001b[0m \u001b[0;34m\u001b[0m\u001b[0m\n\u001b[1;32m    456\u001b[0m     \u001b[0;31m# Create the parser.\u001b[0m\u001b[0;34m\u001b[0m\u001b[0;34m\u001b[0m\u001b[0;34m\u001b[0m\u001b[0m\n\u001b[0;32m--> 457\u001b[0;31m     \u001b[0mparser\u001b[0m \u001b[0;34m=\u001b[0m \u001b[0mTextFileReader\u001b[0m\u001b[0;34m(\u001b[0m\u001b[0mfp_or_buf\u001b[0m\u001b[0;34m,\u001b[0m \u001b[0;34m**\u001b[0m\u001b[0mkwds\u001b[0m\u001b[0;34m)\u001b[0m\u001b[0;34m\u001b[0m\u001b[0;34m\u001b[0m\u001b[0m\n\u001b[0m\u001b[1;32m    458\u001b[0m \u001b[0;34m\u001b[0m\u001b[0m\n\u001b[1;32m    459\u001b[0m     \u001b[0;32mif\u001b[0m \u001b[0mchunksize\u001b[0m \u001b[0;32mor\u001b[0m \u001b[0miterator\u001b[0m\u001b[0;34m:\u001b[0m\u001b[0;34m\u001b[0m\u001b[0;34m\u001b[0m\u001b[0m\n",
      "\u001b[0;32m/data/gpfs/assoc/parchmanlab/tfaske/anaconda3/envs/py36/lib/python3.6/site-packages/pandas/io/parsers.py\u001b[0m in \u001b[0;36m__init__\u001b[0;34m(self, f, engine, **kwds)\u001b[0m\n\u001b[1;32m    893\u001b[0m             \u001b[0mself\u001b[0m\u001b[0;34m.\u001b[0m\u001b[0moptions\u001b[0m\u001b[0;34m[\u001b[0m\u001b[0;34m\"has_index_names\"\u001b[0m\u001b[0;34m]\u001b[0m \u001b[0;34m=\u001b[0m \u001b[0mkwds\u001b[0m\u001b[0;34m[\u001b[0m\u001b[0;34m\"has_index_names\"\u001b[0m\u001b[0;34m]\u001b[0m\u001b[0;34m\u001b[0m\u001b[0;34m\u001b[0m\u001b[0m\n\u001b[1;32m    894\u001b[0m \u001b[0;34m\u001b[0m\u001b[0m\n\u001b[0;32m--> 895\u001b[0;31m         \u001b[0mself\u001b[0m\u001b[0;34m.\u001b[0m\u001b[0m_make_engine\u001b[0m\u001b[0;34m(\u001b[0m\u001b[0mself\u001b[0m\u001b[0;34m.\u001b[0m\u001b[0mengine\u001b[0m\u001b[0;34m)\u001b[0m\u001b[0;34m\u001b[0m\u001b[0;34m\u001b[0m\u001b[0m\n\u001b[0m\u001b[1;32m    896\u001b[0m \u001b[0;34m\u001b[0m\u001b[0m\n\u001b[1;32m    897\u001b[0m     \u001b[0;32mdef\u001b[0m \u001b[0mclose\u001b[0m\u001b[0;34m(\u001b[0m\u001b[0mself\u001b[0m\u001b[0;34m)\u001b[0m\u001b[0;34m:\u001b[0m\u001b[0;34m\u001b[0m\u001b[0;34m\u001b[0m\u001b[0m\n",
      "\u001b[0;32m/data/gpfs/assoc/parchmanlab/tfaske/anaconda3/envs/py36/lib/python3.6/site-packages/pandas/io/parsers.py\u001b[0m in \u001b[0;36m_make_engine\u001b[0;34m(self, engine)\u001b[0m\n\u001b[1;32m   1133\u001b[0m     \u001b[0;32mdef\u001b[0m \u001b[0m_make_engine\u001b[0m\u001b[0;34m(\u001b[0m\u001b[0mself\u001b[0m\u001b[0;34m,\u001b[0m \u001b[0mengine\u001b[0m\u001b[0;34m=\u001b[0m\u001b[0;34m\"c\"\u001b[0m\u001b[0;34m)\u001b[0m\u001b[0;34m:\u001b[0m\u001b[0;34m\u001b[0m\u001b[0;34m\u001b[0m\u001b[0m\n\u001b[1;32m   1134\u001b[0m         \u001b[0;32mif\u001b[0m \u001b[0mengine\u001b[0m \u001b[0;34m==\u001b[0m \u001b[0;34m\"c\"\u001b[0m\u001b[0;34m:\u001b[0m\u001b[0;34m\u001b[0m\u001b[0;34m\u001b[0m\u001b[0m\n\u001b[0;32m-> 1135\u001b[0;31m             \u001b[0mself\u001b[0m\u001b[0;34m.\u001b[0m\u001b[0m_engine\u001b[0m \u001b[0;34m=\u001b[0m \u001b[0mCParserWrapper\u001b[0m\u001b[0;34m(\u001b[0m\u001b[0mself\u001b[0m\u001b[0;34m.\u001b[0m\u001b[0mf\u001b[0m\u001b[0;34m,\u001b[0m \u001b[0;34m**\u001b[0m\u001b[0mself\u001b[0m\u001b[0;34m.\u001b[0m\u001b[0moptions\u001b[0m\u001b[0;34m)\u001b[0m\u001b[0;34m\u001b[0m\u001b[0;34m\u001b[0m\u001b[0m\n\u001b[0m\u001b[1;32m   1136\u001b[0m         \u001b[0;32melse\u001b[0m\u001b[0;34m:\u001b[0m\u001b[0;34m\u001b[0m\u001b[0;34m\u001b[0m\u001b[0m\n\u001b[1;32m   1137\u001b[0m             \u001b[0;32mif\u001b[0m \u001b[0mengine\u001b[0m \u001b[0;34m==\u001b[0m \u001b[0;34m\"python\"\u001b[0m\u001b[0;34m:\u001b[0m\u001b[0;34m\u001b[0m\u001b[0;34m\u001b[0m\u001b[0m\n",
      "\u001b[0;32m/data/gpfs/assoc/parchmanlab/tfaske/anaconda3/envs/py36/lib/python3.6/site-packages/pandas/io/parsers.py\u001b[0m in \u001b[0;36m__init__\u001b[0;34m(self, src, **kwds)\u001b[0m\n\u001b[1;32m   1915\u001b[0m         \u001b[0mkwds\u001b[0m\u001b[0;34m[\u001b[0m\u001b[0;34m\"usecols\"\u001b[0m\u001b[0;34m]\u001b[0m \u001b[0;34m=\u001b[0m \u001b[0mself\u001b[0m\u001b[0;34m.\u001b[0m\u001b[0musecols\u001b[0m\u001b[0;34m\u001b[0m\u001b[0;34m\u001b[0m\u001b[0m\n\u001b[1;32m   1916\u001b[0m \u001b[0;34m\u001b[0m\u001b[0m\n\u001b[0;32m-> 1917\u001b[0;31m         \u001b[0mself\u001b[0m\u001b[0;34m.\u001b[0m\u001b[0m_reader\u001b[0m \u001b[0;34m=\u001b[0m \u001b[0mparsers\u001b[0m\u001b[0;34m.\u001b[0m\u001b[0mTextReader\u001b[0m\u001b[0;34m(\u001b[0m\u001b[0msrc\u001b[0m\u001b[0;34m,\u001b[0m \u001b[0;34m**\u001b[0m\u001b[0mkwds\u001b[0m\u001b[0;34m)\u001b[0m\u001b[0;34m\u001b[0m\u001b[0;34m\u001b[0m\u001b[0m\n\u001b[0m\u001b[1;32m   1918\u001b[0m         \u001b[0mself\u001b[0m\u001b[0;34m.\u001b[0m\u001b[0munnamed_cols\u001b[0m \u001b[0;34m=\u001b[0m \u001b[0mself\u001b[0m\u001b[0;34m.\u001b[0m\u001b[0m_reader\u001b[0m\u001b[0;34m.\u001b[0m\u001b[0munnamed_cols\u001b[0m\u001b[0;34m\u001b[0m\u001b[0;34m\u001b[0m\u001b[0m\n\u001b[1;32m   1919\u001b[0m \u001b[0;34m\u001b[0m\u001b[0m\n",
      "\u001b[0;32mpandas/_libs/parsers.pyx\u001b[0m in \u001b[0;36mpandas._libs.parsers.TextReader.__cinit__\u001b[0;34m()\u001b[0m\n",
      "\u001b[0;31mEmptyDataError\u001b[0m: No columns to parse from file"
     ]
    }
   ],
   "source": [
    "bam_names = []\n",
    "cov_list = []\n",
    "for i in range(0,len(bam_files)):\n",
    "    bam = bam_files[i]\n",
    "    print(bam)\n",
    "    b = bam.split('/')[9] #set this \n",
    "    #print (b)\n",
    "    !$samtools depth -a $b > $'cov.txt'\n",
    "    cov = pd.read_csv('cov.txt', sep=\"\\t\",header=None)\n",
    "    coverage = sum(cov.iloc[:,2])/len(cov.index)\n",
    "    name = b.split('.F')[0]\n",
    "    #print(name)\n",
    "    bam_names.append(name)\n",
    "    cov_list.append(coverage)\n",
    "    print(coverage,name)\n",
    "cov_df = pd.DataFrame(bam=bam_names,coverage=cov_list)\n",
    "cov_df.head()"
   ]
  },
  {
   "cell_type": "code",
   "execution_count": 37,
   "metadata": {},
   "outputs": [
    {
     "data": {
      "text/html": [
       "<div>\n",
       "<style scoped>\n",
       "    .dataframe tbody tr th:only-of-type {\n",
       "        vertical-align: middle;\n",
       "    }\n",
       "\n",
       "    .dataframe tbody tr th {\n",
       "        vertical-align: top;\n",
       "    }\n",
       "\n",
       "    .dataframe thead th {\n",
       "        text-align: right;\n",
       "    }\n",
       "</style>\n",
       "<table border=\"1\" class=\"dataframe\">\n",
       "  <thead>\n",
       "    <tr style=\"text-align: right;\">\n",
       "      <th></th>\n",
       "      <th>bam</th>\n",
       "      <th>coverage</th>\n",
       "    </tr>\n",
       "  </thead>\n",
       "  <tbody>\n",
       "    <tr>\n",
       "      <th>0</th>\n",
       "      <td>EN_TF_100_sorted.bam</td>\n",
       "      <td>17.868499</td>\n",
       "    </tr>\n",
       "    <tr>\n",
       "      <th>1</th>\n",
       "      <td>EN_TF_101_sorted.bam</td>\n",
       "      <td>26.880883</td>\n",
       "    </tr>\n",
       "    <tr>\n",
       "      <th>2</th>\n",
       "      <td>EN_TF_102_sorted.bam</td>\n",
       "      <td>30.865532</td>\n",
       "    </tr>\n",
       "    <tr>\n",
       "      <th>3</th>\n",
       "      <td>EN_TF_103_sorted.bam</td>\n",
       "      <td>28.913263</td>\n",
       "    </tr>\n",
       "    <tr>\n",
       "      <th>4</th>\n",
       "      <td>EN_TF_104_sorted.bam</td>\n",
       "      <td>23.663809</td>\n",
       "    </tr>\n",
       "  </tbody>\n",
       "</table>\n",
       "</div>"
      ],
      "text/plain": [
       "                    bam   coverage\n",
       "0  EN_TF_100_sorted.bam  17.868499\n",
       "1  EN_TF_101_sorted.bam  26.880883\n",
       "2  EN_TF_102_sorted.bam  30.865532\n",
       "3  EN_TF_103_sorted.bam  28.913263\n",
       "4  EN_TF_104_sorted.bam  23.663809"
      ]
     },
     "execution_count": 37,
     "metadata": {},
     "output_type": "execute_result"
    }
   ],
   "source": [
    "cov_dict = {\"bam\":bam_names,'coverage':cov_list}\n",
    "cov_df = pd.DataFrame(cov_dict)\n",
    "cov_df.head()\n",
    "#len(cov_df)"
   ]
  },
  {
   "cell_type": "code",
   "execution_count": 38,
   "metadata": {},
   "outputs": [],
   "source": [
    "cov_out = os.path.join(bwa_dir,'bam_coverage.csv')\n",
    "cov_df.to_csv(path_or_buf=cov_out)"
   ]
  },
  {
   "cell_type": "code",
   "execution_count": 39,
   "metadata": {
    "scrolled": true
   },
   "outputs": [
    {
     "data": {
      "text/plain": [
       "count    399.000000\n",
       "mean      17.309698\n",
       "std        7.769467\n",
       "min        0.891040\n",
       "25%       11.694113\n",
       "50%       17.433782\n",
       "75%       23.019330\n",
       "max       36.243055\n",
       "Name: coverage, dtype: float64"
      ]
     },
     "execution_count": 39,
     "metadata": {},
     "output_type": "execute_result"
    }
   ],
   "source": [
    "cov_df.coverage.describe()\n"
   ]
  },
  {
   "cell_type": "code",
   "execution_count": 40,
   "metadata": {},
   "outputs": [
    {
     "data": {
      "text/plain": [
       "399"
      ]
     },
     "execution_count": 40,
     "metadata": {},
     "output_type": "execute_result"
    }
   ],
   "source": [
    "len(cov_df.coverage)"
   ]
  },
  {
   "cell_type": "markdown",
   "metadata": {},
   "source": [
    "# move good bams\n",
    "    EN_TF_99 empty so only 399"
   ]
  },
  {
   "cell_type": "code",
   "execution_count": 56,
   "metadata": {},
   "outputs": [
    {
     "data": {
      "text/plain": [
       "(370, 385)"
      ]
     },
     "execution_count": 56,
     "metadata": {},
     "output_type": "execute_result"
    }
   ],
   "source": [
    "len(cov_df[cov_df.coverage > 5]),len(cov_df[cov_df.coverage >= 3])"
   ]
  },
  {
   "cell_type": "code",
   "execution_count": 57,
   "metadata": {},
   "outputs": [
    {
     "data": {
      "text/plain": [
       "(385, 'EN_TF_100_sorted.bam')"
      ]
     },
     "execution_count": 57,
     "metadata": {},
     "output_type": "execute_result"
    }
   ],
   "source": [
    "good_bam = cov_df.bam[cov_df.coverage >= 3]\n",
    "good_bam = good_bam.tolist()\n",
    "len(good_bam),good_bam[0]"
   ]
  },
  {
   "cell_type": "code",
   "execution_count": 58,
   "metadata": {},
   "outputs": [
    {
     "data": {
      "text/plain": [
       "(385, '/data/gpfs/home/tfaske/d/rabbruh/SNPcall/bwa/EN_TF_101_sorted.bam')"
      ]
     },
     "execution_count": 58,
     "metadata": {},
     "output_type": "execute_result"
    }
   ],
   "source": [
    "good_bam_files = []\n",
    "for i in range(0,len(good_bam)):\n",
    "    bam = bwa_dir + '/' + good_bam[i]\n",
    "    good_bam_files.append(bam)\n",
    "len(good_bam_files), good_bam_files[1]"
   ]
  },
  {
   "cell_type": "code",
   "execution_count": 47,
   "metadata": {},
   "outputs": [
    {
     "name": "stdout",
     "output_type": "stream",
     "text": [
      "/data/gpfs/assoc/denovo/tfaske/rabbruh/SNPcall\n"
     ]
    }
   ],
   "source": [
    "cd $snp_dir"
   ]
  },
  {
   "cell_type": "code",
   "execution_count": 48,
   "metadata": {},
   "outputs": [],
   "source": [
    "!mkdir 'good_bams'"
   ]
  },
  {
   "cell_type": "code",
   "execution_count": 49,
   "metadata": {},
   "outputs": [],
   "source": [
    "good_bam_dir = os.path.join(snp_dir,'good_bams')\n",
    "assert good_bam_dir"
   ]
  },
  {
   "cell_type": "code",
   "execution_count": 50,
   "metadata": {},
   "outputs": [],
   "source": [
    "for i in range(0,len(good_bam_files)):\n",
    "    good_bam = str(good_bam_files[i])\n",
    "    !cp $good_bam $good_bam_dir"
   ]
  },
  {
   "cell_type": "code",
   "execution_count": 51,
   "metadata": {},
   "outputs": [
    {
     "name": "stdout",
     "output_type": "stream",
     "text": [
      "/data/gpfs/assoc/denovo/tfaske/rabbruh/SNPcall/good_bams\n"
     ]
    }
   ],
   "source": [
    "cd $good_bam_dir"
   ]
  },
  {
   "cell_type": "code",
   "execution_count": 52,
   "metadata": {},
   "outputs": [],
   "source": [
    "good_bam_cp_files = []\n",
    "files = !find . -type f -name '*sorted.bam'\n",
    "files = [os.path.abspath(x) for x in files if 'bam' in x]\n",
    "for x in files:\n",
    "    good_bam_cp_files.append(x)\n",
    "good_bam_cp_files = sorted(good_bam_files)"
   ]
  },
  {
   "cell_type": "code",
   "execution_count": 53,
   "metadata": {},
   "outputs": [
    {
     "data": {
      "text/plain": [
       "(384,\n",
       " '/data/gpfs/assoc/denovo/tfaske/rabbruh/SNPcall/good_bams/EN_TF_100_sorted.bam')"
      ]
     },
     "execution_count": 53,
     "metadata": {},
     "output_type": "execute_result"
    }
   ],
   "source": [
    "len(good_bam_cp_files),good_bam_cp_files[0]"
   ]
  },
  {
   "cell_type": "markdown",
   "metadata": {},
   "source": [
    "# SNP CALL"
   ]
  },
  {
   "cell_type": "code",
   "execution_count": 60,
   "metadata": {},
   "outputs": [
    {
     "name": "stdout",
     "output_type": "stream",
     "text": [
      "/data/gpfs/assoc/denovo/tfaske/rabbruh/SNPcall\n"
     ]
    }
   ],
   "source": [
    "cd $snp_dir"
   ]
  },
  {
   "cell_type": "code",
   "execution_count": 61,
   "metadata": {},
   "outputs": [
    {
     "data": {
      "text/plain": [
       "'/data/gpfs/assoc/denovo/tfaske/rabbruh/SNPcall'"
      ]
     },
     "execution_count": 61,
     "metadata": {},
     "output_type": "execute_result"
    }
   ],
   "source": [
    "pwd"
   ]
  },
  {
   "cell_type": "code",
   "execution_count": 62,
   "metadata": {},
   "outputs": [],
   "source": [
    "### select options\n",
    "account = 'cpu-s1-bionres-0'\n",
    "partition = 'cpu-s1-bionres-0'\n",
    "jobname = 'rabbruh'\n",
    "time = '4-00:00:00' #time limit 4 days\n",
    "cpus = 30\n",
    "mem_cpu = 2500\n",
    "email = 'tfaske@nevada.unr.edu'"
   ]
  },
  {
   "cell_type": "code",
   "execution_count": 64,
   "metadata": {},
   "outputs": [],
   "source": [
    "def write_callsnps_sh(account,partition,jobname,time,cpus,mem_cpu,email,assembly,good_bam_dir,snp_dir):\n",
    "    #print(account)\n",
    "    #print(partition)\n",
    "    #print(cpus)\n",
    "    #print(email)\n",
    "    #print(cmds[0])\n",
    "    with open(\"./run_callsnps.sh\", \"w\") as o:\n",
    "        o.write(\"\"\"#!/usr/bin/env bash\n",
    "#SBATCH --account=%s\n",
    "#SBATCH --partition=%s\n",
    "#SBATCH --time=%s\n",
    "#SBATCH --ntasks 1\n",
    "#SBATCH --cpus-per-task %d\n",
    "#SBATCH --mem-per-cpu=%d\n",
    "#SBATCH --job-name %s_callsnps\n",
    "#SBATCH --output output_callsnps.txt\n",
    "#SBATCH --mail-type=BEGIN,END\n",
    "#SBATCH --mail-user=%s \\n\\n\"\"\" % (account,partition,time,int(cpus),int(mem_cpu),jobname,email))\n",
    "\n",
    "        o.write(\"samtools mpileup -t DP,AD,ADF,ADR,SP,INFO/AD,INFO/ADF,INFO/ADR -Iugf %s %s/*sorted.bam | bcftools call -f GP,GQ -vmO z -o %s/samtools1-9.%s.vcf.gz\" %\n",
    "            (assembly,good_bam_dir,snp_dir,jobname))"
   ]
  },
  {
   "cell_type": "code",
   "execution_count": 65,
   "metadata": {},
   "outputs": [],
   "source": [
    "write_callsnps_sh(account,partition,jobname,time,cpus,mem_cpu,email,assembly,good_bam_dir,snp_dir)"
   ]
  },
  {
   "cell_type": "markdown",
   "metadata": {},
   "source": [
    "# run_call_snps.sh \n",
    "    cd /data/gpfs/home/tfaske/d/rabbruh/SNPcall\n",
    "    source activate py36\n",
    "    sbatch run_callsnps"
   ]
  },
  {
   "cell_type": "code",
   "execution_count": null,
   "metadata": {},
   "outputs": [],
   "source": []
  }
 ],
 "metadata": {
  "kernelspec": {
   "display_name": "Python 3",
   "language": "python",
   "name": "python3"
  },
  "language_info": {
   "codemirror_mode": {
    "name": "ipython",
    "version": 3
   },
   "file_extension": ".py",
   "mimetype": "text/x-python",
   "name": "python",
   "nbconvert_exporter": "python",
   "pygments_lexer": "ipython3",
   "version": "3.6.9"
  }
 },
 "nbformat": 4,
 "nbformat_minor": 1
}
