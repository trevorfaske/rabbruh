{
 "cells": [
  {
   "cell_type": "markdown",
   "metadata": {},
   "source": [
    "# Does everything to run entropy and creates slurm files to submit"
   ]
  },
  {
   "cell_type": "code",
   "execution_count": 1,
   "metadata": {},
   "outputs": [
    {
     "name": "stdout",
     "output_type": "stream",
     "text": [
      "/usr/bin/sh: line 0: source: activate: file not found\r\n"
     ]
    }
   ],
   "source": [
    "!source activate py36"
   ]
  },
  {
   "cell_type": "code",
   "execution_count": 2,
   "metadata": {},
   "outputs": [],
   "source": [
    "import sys\n",
    "\n",
    "#sys.path.append('/home/faske/g/anaconda3/envs/py34/lib/python3.4/site-packages')\n",
    "sys.path.append('/data/gpfs/assoc/parchmanlab/tfaske/anaconda3/envs/py36/lib/python3.6/site-packages')\n",
    "sys.path.append(\"/data/gpfs/assoc/parchmanlab/tfaske/ipynb/include_utils\")\n",
    "\n",
    "import ipyparallel as ipp\n",
    "import os, time\n",
    "import include_utils as u\n",
    "import pandas as pd\n",
    "import numpy as np\n",
    "import scipy as sp\n",
    "import numbers\n",
    "import matplotlib.pyplot as plt\n",
    "import matplotlib.patches as mpatches\n",
    "import matplotlib.cm as cm\n",
    "import matplotlib.colors as mcolors\n",
    "#import vcf\n",
    "from sklearn import preprocessing\n",
    "from subprocess import Popen, PIPE, call, check_output\n",
    "import seaborn as sns\n",
    "from IPython.display import FileLink\n",
    "import urllib.request as urllib2\n",
    "import dill\n",
    "import traceback\n",
    "from pandas import Series, DataFrame\n",
    "import gzip\n",
    "import warnings\n",
    "warnings.filterwarnings('ignore',category=pd.io.pytables.PerformanceWarning)\n",
    "%config InlineBackend.figure_format = 'retina'\n",
    "from Bio import SeqIO\n",
    "#import pysam\n",
    "from collections import OrderedDict, namedtuple, Counter\n",
    "import operator\n",
    "import multiprocessing as mp\n",
    "import shutil\n",
    "import tempfile\n",
    "#from ipyparallel import Client\n",
    "import scandir\n",
    "import glob\n",
    "from Bio.SeqIO.QualityIO import FastqGeneralIterator\n",
    "import pickle\n",
    "import re\n",
    "from itertools import chain\n",
    "#import Levenshtein as lv"
   ]
  },
  {
   "cell_type": "code",
   "execution_count": 3,
   "metadata": {},
   "outputs": [],
   "source": [
    "root = '/data/gpfs/home/tfaske/d/rabbruh'"
   ]
  },
  {
   "cell_type": "code",
   "execution_count": 4,
   "metadata": {},
   "outputs": [
    {
     "name": "stdout",
     "output_type": "stream",
     "text": [
      "/data/gpfs/assoc/denovo/tfaske/rabbruh\n"
     ]
    }
   ],
   "source": [
    "cd $root"
   ]
  },
  {
   "cell_type": "code",
   "execution_count": 5,
   "metadata": {},
   "outputs": [],
   "source": [
    "!mkdir entropy"
   ]
  },
  {
   "cell_type": "code",
   "execution_count": 8,
   "metadata": {},
   "outputs": [],
   "source": [
    "ent_dir =os.path.join(root,'entropy')\n",
    "assert ent_dir"
   ]
  },
  {
   "cell_type": "code",
   "execution_count": 20,
   "metadata": {},
   "outputs": [
    {
     "name": "stdout",
     "output_type": "stream",
     "text": [
      "/data/gpfs/assoc/denovo/tfaske/rabbruh/entropy\n"
     ]
    }
   ],
   "source": [
    "cd $ent_dir"
   ]
  },
  {
   "cell_type": "code",
   "execution_count": 13,
   "metadata": {},
   "outputs": [],
   "source": [
    "!cp '../SNPcall/filtering/good_snps.recode.vcf.gz' ."
   ]
  },
  {
   "cell_type": "code",
   "execution_count": 22,
   "metadata": {},
   "outputs": [],
   "source": [
    "!gunzip 'good_snps.recode.vcf.gz'"
   ]
  },
  {
   "cell_type": "code",
   "execution_count": 23,
   "metadata": {},
   "outputs": [
    {
     "data": {
      "text/plain": [
       "'good_snps.recode.vcf'"
      ]
     },
     "execution_count": 23,
     "metadata": {},
     "output_type": "execute_result"
    }
   ],
   "source": [
    "vcf = 'good_snps.recode.vcf'\n",
    "vcf"
   ]
  },
  {
   "cell_type": "code",
   "execution_count": 24,
   "metadata": {},
   "outputs": [],
   "source": [
    "perl_mpgl = '/data/gpfs/home/tfaske/g/src/perl_scripts/vcf2mpglV1.3TLP.pl'\n",
    "perl_mean = '/data/gpfs/home/tfaske/g/src/perl_scripts/gl2genestV1.3.pl'"
   ]
  },
  {
   "cell_type": "code",
   "execution_count": 25,
   "metadata": {},
   "outputs": [
    {
     "name": "stdout",
     "output_type": "stream",
     "text": [
      "Number of loci: 30852; number of individuals 365\r\n"
     ]
    }
   ],
   "source": [
    "!perl $perl_mpgl $vcf"
   ]
  },
  {
   "cell_type": "code",
   "execution_count": 26,
   "metadata": {},
   "outputs": [],
   "source": [
    "mpgl = 'good_snps.recode.mpgl'"
   ]
  },
  {
   "cell_type": "code",
   "execution_count": 27,
   "metadata": {},
   "outputs": [],
   "source": [
    "!perl $perl_mean $mpgl mean"
   ]
  },
  {
   "cell_type": "code",
   "execution_count": 28,
   "metadata": {},
   "outputs": [],
   "source": [
    "%load_ext rpy2.ipython"
   ]
  },
  {
   "cell_type": "code",
   "execution_count": 31,
   "metadata": {},
   "outputs": [
    {
     "name": "stderr",
     "output_type": "stream",
     "text": [
      "R[write to console]: Loading required package: LEA\n",
      "\n"
     ]
    }
   ],
   "source": [
    "%%R\n",
    "require(readr)\n",
    "require(MASS)\n",
    "require(LEA)\n",
    "require(ggplot2)\n",
    "\n",
    "source('/data/gpfs/home/tfaske/g/src/R/Imports.R')\n",
    "\n",
    "setwd('/data/gpfs/home/tfaske/d/rabbruh/entropy')"
   ]
  },
  {
   "cell_type": "code",
   "execution_count": 32,
   "metadata": {},
   "outputs": [
    {
     "name": "stdout",
     "output_type": "stream",
     "text": [
      "[1] 30852   365\n"
     ]
    }
   ],
   "source": [
    "%%R\n",
    "g <- read.table(\"pntest_mean_good_snps.recode.txt\", header=F)\n",
    "dim(g)"
   ]
  },
  {
   "cell_type": "code",
   "execution_count": 33,
   "metadata": {},
   "outputs": [
    {
     "name": "stdout",
     "output_type": "stream",
     "text": [
      "    PC1     PC2     PC3     PC4     PC5 \n",
      "0.02336 0.01421 0.01185 0.01096 0.00961 \n"
     ]
    }
   ],
   "source": [
    "%%R\n",
    "Pop_ID <- read.csv(\"Pop_ID.csv\")\n",
    "pca_df <- PCA_entropy(t(g))"
   ]
  },
  {
   "cell_type": "code",
   "execution_count": 34,
   "metadata": {},
   "outputs": [],
   "source": [
    "%%R\n",
    "#######################################################################################\n",
    "                                    #### LDA ####\n",
    "#######################################################################################\n",
    "\n",
    "k2<-kmeans(pca_df[,1:5],2,iter.max=10,nstart=10,algorithm=\"Hartigan-Wong\")\n",
    "k3<-kmeans(pca_df[,1:5],3,iter.max=10,nstart=10,algorithm=\"Hartigan-Wong\")\n",
    "k4<-kmeans(pca_df[,1:5],4,iter.max=10,nstart=10,algorithm=\"Hartigan-Wong\")\n",
    "k5<-kmeans(pca_df[,1:5],5,iter.max=10,nstart=10,algorithm=\"Hartigan-Wong\")\n",
    "k6<-kmeans(pca_df[,1:5],6,iter.max=10,nstart=10,algorithm=\"Hartigan-Wong\")\n",
    "k7<-kmeans(pca_df[,1:5],7,iter.max=10,nstart=10,algorithm=\"Hartigan-Wong\")\n",
    "k8<-kmeans(pca_df[,1:5],8,iter.max=10,nstart=10,algorithm=\"Hartigan-Wong\")\n",
    "k9<-kmeans(pca_df[,1:5],9,iter.max=10,nstart=10,algorithm=\"Hartigan-Wong\")\n",
    "k10<-kmeans(pca_df[,1:5],10,iter.max=10,nstart=10,algorithm=\"Hartigan-Wong\")\n",
    "\n",
    "ldak2<-lda(x=pca_df[,1:5],grouping=k2$cluster,CV=TRUE)\n",
    "ldak3<-lda(x=pca_df[,1:5],grouping=k3$cluster,CV=TRUE)\n",
    "ldak4<-lda(x=pca_df[,1:5],grouping=k4$cluster,CV=TRUE)\n",
    "ldak5<-lda(x=pca_df[,1:5],grouping=k5$cluster,CV=TRUE)\n",
    "ldak6<-lda(x=pca_df[,1:5],grouping=k6$cluster,CV=TRUE)\n",
    "ldak7<-lda(x=pca_df[,1:5],grouping=k7$cluster,CV=TRUE)\n",
    "ldak8<-lda(x=pca_df[,1:5],grouping=k8$cluster,CV=TRUE)\n",
    "ldak9<-lda(x=pca_df[,1:5],grouping=k9$cluster,CV=TRUE)\n",
    "ldak10<-lda(x=pca_df[,1:5],grouping=k10$cluster,CV=TRUE)\n",
    "\n",
    "write.table(round(ldak2$posterior,5),file=\"ldak2.txt\",quote=F,row.names=F,col.names=F)\n",
    "write.table(round(ldak3$posterior,5),file=\"ldak3.txt\",quote=F,row.names=F,col.names=F)\n",
    "write.table(round(ldak4$posterior,5),file=\"ldak4.txt\",quote=F,row.names=F,col.names=F)\n",
    "write.table(round(ldak5$posterior,5),file=\"ldak5.txt\",quote=F,row.names=F,col.names=F)\n",
    "write.table(round(ldak6$posterior,5),file=\"ldak6.txt\",quote=F,row.names=F,col.names=F)                                      \n",
    "write.table(round(ldak7$posterior,5),file=\"ldak7.txt\",quote=F,row.names=F,col.names=F)\n",
    "write.table(round(ldak8$posterior,5),file=\"ldak8.txt\",quote=F,row.names=F,col.names=F)\n",
    "write.table(round(ldak9$posterior,5),file=\"ldak9.txt\",quote=F,row.names=F,col.names=F)\n",
    "write.table(round(ldak10$posterior,5),file=\"ldak10.txt\",quote=F,row.names=F,col.names=F)"
   ]
  },
  {
   "cell_type": "code",
   "execution_count": 42,
   "metadata": {},
   "outputs": [
    {
     "name": "stdout",
     "output_type": "stream",
     "text": [
      "[1] 30852   365\n"
     ]
    }
   ],
   "source": [
    "%%R\n",
    "######### create entropy header ####\n",
    "\n",
    "Pop_ID_list <- paste(Pop_ID$Pop,Pop_ID$ID,sep='_')\n",
    "\n",
    "Header <- data.frame(dims = NA,Pop_ID_list)\n",
    "\n",
    "dim(g)"
   ]
  },
  {
   "cell_type": "code",
   "execution_count": 46,
   "metadata": {},
   "outputs": [],
   "source": [
    "%%R\n",
    "df <- t(Header)\n",
    "dims <- paste(dim(g)[2],dim(g)[1],sep = \" \")\n",
    "\n",
    "df[1,1] <- dims\n",
    "#head(df)\n",
    "write.table(df,'entropy_header.txt',sep = \" \",na =\"\",\n",
    "            quote = FALSE,row.names = FALSE,col.names = FALSE)\n"
   ]
  },
  {
   "cell_type": "code",
   "execution_count": 47,
   "metadata": {},
   "outputs": [
    {
     "name": "stdout",
     "output_type": "stream",
     "text": [
      "365 30852                                                                                                                                                                                                                                                                                                                                                                            \r\n",
      "TF_100 TF_101 TF_102 TF_103 TF_104 TF_105 TF_106 TF_107 TF_108 TF_109 TF_10 TF_110 TF_111 TF_112 TF_113 TF_114 TF_115 TF_116 TF_117 TF_118 TF_119 TF_11 TF_120 TF_121 TF_122 TF_123 TF_124 TF_125 TF_126 TF_127 TF_128 TF_129 TF_12 TF_130 TF_131 TF_132 TF_133 TF_134 TF_135 TF_136 TF_137 TF_138 TF_139 TF_13 TF_140 TF_141 TF_142 TF_143 TF_144 TF_145 TF_146 TF_147 TF_148 TF_149 TF_14 TF_150 TF_151 TF_152 TF_153 TF_154 TF_155 TF_156 TF_157 TF_158 TF_159 TF_15 TF_160 TF_161 TF_162 TF_163 TF_164 TF_165 TF_166 TF_167 TF_168 TF_169 TF_16 TF_170 TF_171 TF_172 TF_173 TF_174 TF_175 TF_176 TF_177 TF_178 TF_179 TF_17 TF_180 TF_181 TF_182 TF_183 TF_184 TF_185 TF_186 TF_187 TF_188 TF_189 TF_18 TF_190 TF_191 TF_192 TF_193 TF_194 TF_195 TF_196 TF_197 TF_198 TF_199 TF_19 TF_1 TF_200 TF_201 TF_202 TF_203 TF_204 TF_205 TF_206 TF_207 TF_208 TF_209 TF_20 TF_210 TF_211 TF_212 TF_213 TF_214 TF_215 TF_216 TF_217 TF_218 TF_219 TF_21 TF_220 TF_221 TF_222 TF_223 TF_224 TF_225 TF_226 TF_227 TF_228 TF_229 TF_22 TF_230 TF_231 TF_232 TF_233 TF_234 TF_235 TF_236 TF_237 TF_238 TF_239 TF_23 TF_240 TF_241 TF_242 TF_243 TF_244 TF_245 TF_246 TF_247 TF_248 TF_249 TF_24 TF_250 TF_251 TF_252 TF_253 TF_254 TF_255 TF_256 TF_257 TF_258 TF_259 TF_25 TF_260 TF_261 TF_263 TF_264 TF_265 TF_266 TF_267 TF_268 TF_269 TF_26 TF_270 TF_271 TF_272 TF_273 TF_274 TF_275 TF_276 TF_278 TF_279 TF_27 TF_280 TF_281 TF_282 TF_283 TF_284 TF_285 TF_286 TF_287 TF_288 TF_289 TF_28 TF_290 TF_291 TF_292 TF_293 TF_294 TF_299 TF_29 TF_2 TF_300 TF_301 TF_302 TF_304 TF_305 TF_306 TF_307 TF_308 TF_309 TF_30 TF_312 TF_313 TF_315 TF_317 TF_318 TF_319 TF_31 TF_320 TF_321 TF_322 TF_324 TF_325 TF_327 TF_328 TF_329 TF_32 TF_330 TF_332 TF_333 TF_335 TF_336 TF_337 TF_338 TF_339 TF_33 TF_341 TF_342 TF_344 TF_345 TF_346 TF_347 TF_348 TF_34 TF_350 TF_352 TF_353 TF_354 TF_356 TF_357 TF_358 TF_359 TF_35 TF_361 TF_363 TF_364 TF_366 TF_367 TF_369 TF_36 TF_370 TF_371 TF_372 TF_373 TF_374 TF_376 TF_377 TF_378 TF_379 TF_37 TF_380 TF_381 TF_383 TF_384 TF_385 TF_387 TF_388 TF_38 TF_390 TF_391 TF_392 TF_393 TF_394 TF_395 TF_396 TF_397 TF_398 TF_399 TF_39 TF_3 TF_40 TF_41 TF_42 TF_43 TF_44 TF_45 TF_46 TF_47 TF_48 TF_49 TF_4 TF_50 TF_51 TF_52 TF_53 TF_54 TF_55 TF_56 TF_57 TF_58 TF_59 TF_5 TF_60 TF_61 TF_62 TF_63 TF_64 TF_65 TF_66 TF_67 TF_68 TF_69 TF_6 TF_70 TF_71 TF_72 TF_73 TF_74 TF_75 TF_76 TF_77 TF_78 TF_79 TF_7 TF_80 TF_81 TF_82 TF_84 TF_86 TF_87 TF_88 TF_89 TF_8 TF_90 TF_91 TF_92 TF_93 TF_94 TF_95 TF_97\r\n"
     ]
    }
   ],
   "source": [
    "!head entropy_header.txt"
   ]
  },
  {
   "cell_type": "code",
   "execution_count": 48,
   "metadata": {},
   "outputs": [],
   "source": [
    "!cat entropy_header.txt good_snps.recode.mpgl > entropy.mpgl"
   ]
  },
  {
   "cell_type": "code",
   "execution_count": 49,
   "metadata": {},
   "outputs": [
    {
     "name": "stdout",
     "output_type": "stream",
     "text": [
      "/data/gpfs/assoc/denovo/tfaske/rabbruh/entropy\n"
     ]
    }
   ],
   "source": [
    "cd $ent_dir"
   ]
  },
  {
   "cell_type": "code",
   "execution_count": 56,
   "metadata": {},
   "outputs": [],
   "source": [
    "!mkdir shdir"
   ]
  },
  {
   "cell_type": "code",
   "execution_count": 60,
   "metadata": {},
   "outputs": [],
   "source": [
    "### select slurm options\n",
    "account = 'cpu-s1-bionres-0'\n",
    "partition = 'cpu-s1-bionres-0'\n",
    "time = '10-00:00:00' #time limit 4 days\n",
    "cpus = 1\n",
    "mem_cpu = 5000\n",
    "email = 'tfaske@nevada.unr.edu'\n",
    "\n",
    "#entropy settings\n",
    "l = 100000\n",
    "b = 30000\n",
    "num_k = [2,3,4,5,6,7,8]\n",
    "chains = 4"
   ]
  },
  {
   "cell_type": "code",
   "execution_count": 67,
   "metadata": {},
   "outputs": [],
   "source": [
    "def write_entropy_sh(account,partition,time,cpus,mem_cpu,email,l,b,num_k,chains):\n",
    "    for k in num_k:\n",
    "        for c in range(1,chains+1):\n",
    "            jobname = 'k%d_c%d' % (k,c)\n",
    "            with open(\"shdir/run_entropy_%s.sh\" % (jobname), \"w\") as o:\n",
    "                o.write(\"\"\"#!/usr/bin/env bash\n",
    "#SBATCH --account=%s\n",
    "#SBATCH --partition=%s\n",
    "#SBATCH --time=%s\n",
    "#SBATCH --ntasks 1\n",
    "#SBATCH --cpus-per-task %d\n",
    "#SBATCH --mem-per-cpu=%d\n",
    "#SBATCH --job-name ent_%s\n",
    "#SBATCH --output output_%s.txt\n",
    "#SBATCH --mail-type=END\n",
    "#SBATCH --mail-user=%s\\n\\n\"\"\" % (account,partition,time,cpus,mem_cpu,jobname,jobname,email))\n",
    "        \n",
    "                o.write(\"entropy -i ../entropy.mpgl -o ../entropy_%s.hdf5 -n 2 -l %d -b %d -t 10 -s 20 -e .01 -k %d -q ../ldak%d.txt -m 1 -w 0\"\n",
    "                        % (jobname,l,b,k,k))\n",
    "    "
   ]
  },
  {
   "cell_type": "code",
   "execution_count": 68,
   "metadata": {},
   "outputs": [],
   "source": [
    "write_entropy_sh(account,partition,time,cpus,mem_cpu,email,l,b,num_k,chains)"
   ]
  },
  {
   "cell_type": "code",
   "execution_count": 69,
   "metadata": {},
   "outputs": [
    {
     "data": {
      "text/plain": [
       "['/data/gpfs/home/tfaske/d/rabbruh/entropy/shdir/run_entropy_k4_c2.sh',\n",
       " '/data/gpfs/home/tfaske/d/rabbruh/entropy/shdir/run_entropy_k5_c4.sh',\n",
       " '/data/gpfs/home/tfaske/d/rabbruh/entropy/shdir/run_entropy_k8_c4.sh',\n",
       " '/data/gpfs/home/tfaske/d/rabbruh/entropy/shdir/run_entropy_k6_c1.sh',\n",
       " '/data/gpfs/home/tfaske/d/rabbruh/entropy/shdir/run_entropy_k4_c4.sh',\n",
       " '/data/gpfs/home/tfaske/d/rabbruh/entropy/shdir/run_entropy_k8_c2.sh',\n",
       " '/data/gpfs/home/tfaske/d/rabbruh/entropy/shdir/run_entropy_k2_c1.sh',\n",
       " '/data/gpfs/home/tfaske/d/rabbruh/entropy/shdir/run_entropy_k3_c4.sh',\n",
       " '/data/gpfs/home/tfaske/d/rabbruh/entropy/shdir/run_entropy_k4_c3.sh',\n",
       " '/data/gpfs/home/tfaske/d/rabbruh/entropy/shdir/run_entropy_k2_c4.sh',\n",
       " '/data/gpfs/home/tfaske/d/rabbruh/entropy/shdir/run_entropy_k7_c4.sh',\n",
       " '/data/gpfs/home/tfaske/d/rabbruh/entropy/shdir/run_entropy_k2_c2.sh',\n",
       " '/data/gpfs/home/tfaske/d/rabbruh/entropy/shdir/run_entropy_k2_c3.sh',\n",
       " '/data/gpfs/home/tfaske/d/rabbruh/entropy/shdir/run_entropy_k8_c3.sh',\n",
       " '/data/gpfs/home/tfaske/d/rabbruh/entropy/shdir/run_entropy_k5_c3.sh',\n",
       " '/data/gpfs/home/tfaske/d/rabbruh/entropy/shdir/run_entropy_k3_c1.sh',\n",
       " '/data/gpfs/home/tfaske/d/rabbruh/entropy/shdir/run_entropy_k3_c3.sh',\n",
       " '/data/gpfs/home/tfaske/d/rabbruh/entropy/shdir/run_entropy_k8_c1.sh',\n",
       " '/data/gpfs/home/tfaske/d/rabbruh/entropy/shdir/run_entropy_k5_c2.sh',\n",
       " '/data/gpfs/home/tfaske/d/rabbruh/entropy/shdir/run_entropy_k6_c4.sh',\n",
       " '/data/gpfs/home/tfaske/d/rabbruh/entropy/shdir/run_entropy_k4_c1.sh',\n",
       " '/data/gpfs/home/tfaske/d/rabbruh/entropy/shdir/run_entropy_k6_c3.sh',\n",
       " '/data/gpfs/home/tfaske/d/rabbruh/entropy/shdir/run_entropy_k7_c2.sh',\n",
       " '/data/gpfs/home/tfaske/d/rabbruh/entropy/shdir/run_entropy_k6_c2.sh',\n",
       " '/data/gpfs/home/tfaske/d/rabbruh/entropy/shdir/run_entropy_k3_c2.sh',\n",
       " '/data/gpfs/home/tfaske/d/rabbruh/entropy/shdir/run_entropy_k7_c3.sh',\n",
       " '/data/gpfs/home/tfaske/d/rabbruh/entropy/shdir/run_entropy_k5_c1.sh',\n",
       " '/data/gpfs/home/tfaske/d/rabbruh/entropy/shdir/run_entropy_k7_c1.sh']"
      ]
     },
     "execution_count": 69,
     "metadata": {},
     "output_type": "execute_result"
    }
   ],
   "source": [
    "entShells = !find $ent_dir -name 'run_entropy*.sh'\n",
    "entShells"
   ]
  },
  {
   "cell_type": "code",
   "execution_count": 72,
   "metadata": {},
   "outputs": [],
   "source": [
    "def write_sbatch_entShells(entShells):\n",
    "         with open(\"shdir/sbatch_entropy.sh\", \"w\") as o:\n",
    "            o.write(\"\"\"#!/usr/bin/env bash \\n\"\"\")\n",
    "            for sh in entShells:\n",
    "                o.write(\"\"\"sbatch %s\\n\"\"\" % (sh))"
   ]
  },
  {
   "cell_type": "code",
   "execution_count": 73,
   "metadata": {},
   "outputs": [],
   "source": [
    "write_sbatch_entShells(entShells)"
   ]
  },
  {
   "cell_type": "markdown",
   "metadata": {},
   "source": [
    "# Run all entropy*sh\n",
    "    cd /data/gpfs/home/tfaske/d/rabbruh/entropy/shdir\n",
    "    source activate entropy\n",
    "    bash sbatch_entropy.sh"
   ]
  },
  {
   "cell_type": "markdown",
   "metadata": {},
   "source": [
    "# Use estpost to get DIC, q, and gprob"
   ]
  },
  {
   "cell_type": "code",
   "execution_count": 62,
   "metadata": {},
   "outputs": [
    {
     "name": "stdout",
     "output_type": "stream",
     "text": [
      "/working/tfaske/piper/retic/entropy\n"
     ]
    }
   ],
   "source": [
    "cd $ent_dir"
   ]
  },
  {
   "cell_type": "code",
   "execution_count": 67,
   "metadata": {},
   "outputs": [
    {
     "data": {
      "text/plain": [
       "['./entropy_k2.hdf5',\n",
       " './entropy_k3.hdf5',\n",
       " './entropy_k4.hdf5',\n",
       " './entropy_k5.hdf5',\n",
       " './entropy_k6.hdf5']"
      ]
     },
     "execution_count": 67,
     "metadata": {},
     "output_type": "execute_result"
    }
   ],
   "source": [
    "hdf5_files = !find . -name '*hdf5'\n",
    "hdf5_files = hdf5_files.sort()\n",
    "hdf5_files"
   ]
  },
  {
   "cell_type": "code",
   "execution_count": 73,
   "metadata": {},
   "outputs": [],
   "source": [
    "!module load entropy/1.2"
   ]
  },
  {
   "cell_type": "code",
   "execution_count": 72,
   "metadata": {},
   "outputs": [],
   "source": [
    "num_k = [2,3,4,5,6]"
   ]
  },
  {
   "cell_type": "markdown",
   "metadata": {},
   "source": [
    "# nvm, figure out later. Run in terminal"
   ]
  },
  {
   "cell_type": "code",
   "execution_count": 71,
   "metadata": {},
   "outputs": [
    {
     "name": "stdout",
     "output_type": "stream",
     "text": [
      "/usr/bin/sh: estpost.entropy: command not found\n",
      "/usr/bin/sh: estpost.entropy: command not found\n",
      "/usr/bin/sh: estpost.entropy: command not found\n",
      "/usr/bin/sh: estpost.entropy: command not found\n",
      "/usr/bin/sh: estpost.entropy: command not found\n"
     ]
    }
   ],
   "source": [
    "#make DIC\n",
    "for i in range(0,len(hdf5_files)):\n",
    "    k = num_k[i]\n",
    "    f = hdf5_files[i]\n",
    "    dic = \"DIC_k%d.txt\" % (k)\n",
    "    !estpost.entropy $f -s 3 -p deviance > $dic\n"
   ]
  },
  {
   "cell_type": "code",
   "execution_count": 77,
   "metadata": {},
   "outputs": [
    {
     "data": {
      "text/plain": [
       "['./DIC_k2.txt',\n",
       " './DIC_k3.txt',\n",
       " './DIC_k4.txt',\n",
       " './DIC_k5.txt',\n",
       " './DIC_k6.txt']"
      ]
     },
     "execution_count": 77,
     "metadata": {},
     "output_type": "execute_result"
    }
   ],
   "source": [
    "dic_files = !find . -name 'DIC*'\n",
    "dic_files"
   ]
  },
  {
   "cell_type": "code",
   "execution_count": 79,
   "metadata": {},
   "outputs": [
    {
     "name": "stdout",
     "output_type": "stream",
     "text": [
      "file = entropy_k2.hdf5\n",
      "parameter dimensions for deviance: samples = 7000, chains = 1\n",
      "Model deviance: 3770153.62\n",
      "Effective number of parameters: 1724916.16\n",
      "Model DIC: 5495069.78\n",
      "\n",
      "\n",
      "file = entropy_k3.hdf5\n",
      "parameter dimensions for deviance: samples = 7000, chains = 1\n",
      "Model deviance: 3691381.34\n",
      "Effective number of parameters: 1891442.59\n",
      "Model DIC: 5582823.93\n",
      "\n",
      "\n",
      "file = entropy_k4.hdf5\n",
      "parameter dimensions for deviance: samples = 7000, chains = 1\n",
      "Model deviance: 3609734.37\n",
      "Effective number of parameters: 2097108.35\n",
      "Model DIC: 5706842.72\n",
      "\n",
      "\n",
      "file = entropy_k5.hdf5\n",
      "parameter dimensions for deviance: samples = 7000, chains = 1\n",
      "Model deviance: 3545331.26\n",
      "Effective number of parameters: 2393933.78\n",
      "Model DIC: 5939265.04\n",
      "\n",
      "\n",
      "file = entropy_k6.hdf5\n",
      "parameter dimensions for deviance: samples = 7000, chains = 1\n",
      "Model deviance: 3416931.82\n",
      "Effective number of parameters: 211269059.98\n",
      "Model DIC: 214685991.80\n",
      "\n",
      "\n"
     ]
    }
   ],
   "source": [
    "for d in dic_files:\n",
    "    !cat $d\n",
    "    print('\\n')"
   ]
  },
  {
   "cell_type": "code",
   "execution_count": null,
   "metadata": {},
   "outputs": [],
   "source": []
  }
 ],
 "metadata": {
  "kernelspec": {
   "display_name": "Python 3",
   "language": "python",
   "name": "python3"
  },
  "language_info": {
   "codemirror_mode": {
    "name": "ipython",
    "version": 3
   },
   "file_extension": ".py",
   "mimetype": "text/x-python",
   "name": "python",
   "nbconvert_exporter": "python",
   "pygments_lexer": "ipython3",
   "version": "3.6.9"
  }
 },
 "nbformat": 4,
 "nbformat_minor": 2
}
